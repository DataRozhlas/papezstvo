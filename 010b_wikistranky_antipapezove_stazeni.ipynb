{
 "cells": [
  {
   "cell_type": "code",
   "execution_count": 1,
   "id": "d5066b26-b934-41e8-8fab-71c40d7b70fd",
   "metadata": {},
   "outputs": [],
   "source": [
    "import os\n",
    "import requests\n",
    "import polars as pl"
   ]
  },
  {
   "cell_type": "code",
   "execution_count": 7,
   "id": "8eaa1691-7c22-4dc2-bf6d-48b5cb8a1177",
   "metadata": {},
   "outputs": [],
   "source": [
    "df = pl.read_parquet('data_raw/antipapezstvo_raw.parquet', use_pyarrow=True)"
   ]
  },
  {
   "cell_type": "code",
   "execution_count": 9,
   "id": "54d6453b-7967-417f-8261-3e0f19c8baee",
   "metadata": {},
   "outputs": [
    {
     "data": {
      "text/plain": [
       "{'Q125984': 'https://en.wikipedia.org/wiki/Anastasius_Bibliothecarius',\n",
       " 'Q222890': 'https://en.wikipedia.org/wiki/Novatian',\n",
       " 'Q24053661': 'https://en.wikipedia.org/wiki/Joseph_Odermatt',\n",
       " 'Q241387': 'https://en.wikipedia.org/wiki/Antipope_Victor_IV_(1159%E2%80%931164)',\n",
       " 'Q2447717': 'https://en.wikipedia.org/wiki/Jean_Carrier',\n",
       " 'Q2477056': 'https://en.wikipedia.org/wiki/Gin%C3%A9s_Jes%C3%BAs_Hern%C3%A1ndez',\n",
       " 'Q2608414': 'https://en.wikipedia.org/wiki/Manuel_Alonso_Corral',\n",
       " 'Q262884': 'https://en.wikipedia.org/wiki/Antipope_Alexander_V',\n",
       " 'Q2629341': 'https://en.wikipedia.org/wiki/David_Bawden',\n",
       " 'Q28839304': None,\n",
       " 'Q294599': 'https://en.wikipedia.org/wiki/Antipope_John_XXIII',\n",
       " 'Q295509': 'https://en.wikipedia.org/wiki/Antipope_Laurentius',\n",
       " 'Q298769': 'https://en.wikipedia.org/wiki/Antipope_Ursicinus',\n",
       " 'Q299410': 'https://en.wikipedia.org/wiki/Antipope_Felix_II',\n",
       " 'Q310371': 'https://en.wikipedia.org/wiki/Antipope_Benedict_XIII',\n",
       " 'Q311922': 'https://en.wikipedia.org/wiki/Antipope_Eulalius',\n",
       " 'Q312636': 'https://en.wikipedia.org/wiki/Amadeus_VIII,_Duke_of_Savoy',\n",
       " 'Q312861': 'https://en.wikipedia.org/wiki/Antipope_Philip',\n",
       " 'Q312869': 'https://en.wikipedia.org/wiki/Antipope_Dioscorus',\n",
       " 'Q312931': 'https://en.wikipedia.org/wiki/Antipope_Boniface_VII',\n",
       " 'Q313495': 'https://en.wikipedia.org/wiki/Antipope_Constantine_II',\n",
       " 'Q313964': 'https://en.wikipedia.org/wiki/Antipope_Christopher',\n",
       " 'Q314017': 'https://en.wikipedia.org/wiki/Antipope_John_VIII',\n",
       " 'Q314025': 'https://en.wikipedia.org/wiki/Antipope_Anacletus_II',\n",
       " 'Q316548': 'https://en.wikipedia.org/wiki/Antipope_Theodore',\n",
       " 'Q319415': 'https://en.wikipedia.org/wiki/Antipope_Paschal_(687)',\n",
       " 'Q320371': 'https://en.wikipedia.org/wiki/Antipope_Clement_VII',\n",
       " 'Q320630': 'https://en.wikipedia.org/wiki/Antipope_Gregory_VI',\n",
       " 'Q336684': 'https://en.wikipedia.org/wiki/Antipope_Clement_III',\n",
       " 'Q346582': 'https://en.wikipedia.org/wiki/Antipope_Paschal_III',\n",
       " 'Q348587': 'https://en.wikipedia.org/wiki/Antipope_John_XVI',\n",
       " 'Q348611': 'https://en.wikipedia.org/wiki/Antipope_Nicholas_V',\n",
       " 'Q348629': 'https://en.wikipedia.org/wiki/Antipope_Clement_VIII',\n",
       " 'Q350462': 'https://en.wikipedia.org/wiki/Antipope_Innocent_III',\n",
       " 'Q355773': 'https://en.wikipedia.org/wiki/Antipope_Honorius_II',\n",
       " 'Q356619': 'https://en.wikipedia.org/wiki/Teobaldo_Boccapecci',\n",
       " 'Q356628': 'https://en.wikipedia.org/wiki/Antipope_Theodoric',\n",
       " 'Q356636': 'https://en.wikipedia.org/wiki/Antipope_Callixtus_III',\n",
       " 'Q365848': 'https://en.wikipedia.org/wiki/Antipope_Gregory_VIII',\n",
       " 'Q368150': 'https://en.wikipedia.org/wiki/Antipope_Sylvester_IV',\n",
       " 'Q4314104': 'https://en.wikipedia.org/wiki/Antipope_Natalius',\n",
       " 'Q435314': 'https://en.wikipedia.org/wiki/Antipope_Adalbert',\n",
       " 'Q435340': 'https://en.wikipedia.org/wiki/Antipope_Victor_IV_(1138)',\n",
       " 'Q455786': 'https://en.wikipedia.org/wiki/Bernard_Garnier',\n",
       " 'Q470431': 'https://en.wikipedia.org/wiki/Clemente_Dom%C3%ADnguez_y_G%C3%B3mez',\n",
       " 'Q521835': 'https://en.wikipedia.org/wiki/Lucian_Pulvermacher',\n",
       " 'Q9266158': 'https://en.wikipedia.org/wiki/Jean-Gaston_Tremblay'}"
      ]
     },
     "execution_count": 9,
     "metadata": {},
     "output_type": "execute_result"
    }
   ],
   "source": [
    "seznam = df.select(pl.col(['id','wiki_en'])).rows_by_key(key='id')\n",
    "seznam = {kod: link[0] for kod, link in seznam.items()}\n",
    "seznam"
   ]
  },
  {
   "cell_type": "code",
   "execution_count": 11,
   "id": "0136f8ef-344c-49f6-9590-bd41733d9a4d",
   "metadata": {},
   "outputs": [],
   "source": [
    "kam = \"downloads/antipapezove_wikipedia_en\""
   ]
  },
  {
   "cell_type": "code",
   "execution_count": 13,
   "id": "3374bbd1-5b02-4135-818c-66310977f471",
   "metadata": {},
   "outputs": [],
   "source": [
    "try:\n",
    "    os.mkdir(kam)\n",
    "except:\n",
    "    pass"
   ]
  },
  {
   "cell_type": "code",
   "execution_count": 17,
   "id": "8b994163-ba8e-4904-a579-5efb23cde289",
   "metadata": {},
   "outputs": [
    {
     "name": "stdout",
     "output_type": "stream",
     "text": [
      "https://en.wikipedia.org/wiki/Anastasius_Bibliothecarius\n",
      "https://en.wikipedia.org/wiki/Novatian\n",
      "https://en.wikipedia.org/wiki/Joseph_Odermatt\n",
      "https://en.wikipedia.org/wiki/Antipope_Victor_IV_(1159%E2%80%931164)\n",
      "https://en.wikipedia.org/wiki/Jean_Carrier\n",
      "https://en.wikipedia.org/wiki/Gin%C3%A9s_Jes%C3%BAs_Hern%C3%A1ndez\n",
      "https://en.wikipedia.org/wiki/Manuel_Alonso_Corral\n",
      "https://en.wikipedia.org/wiki/Antipope_Alexander_V\n",
      "https://en.wikipedia.org/wiki/David_Bawden\n",
      "https://en.wikipedia.org/wiki/Antipope_John_XXIII\n",
      "https://en.wikipedia.org/wiki/Antipope_Laurentius\n",
      "https://en.wikipedia.org/wiki/Antipope_Ursicinus\n",
      "https://en.wikipedia.org/wiki/Antipope_Felix_II\n",
      "https://en.wikipedia.org/wiki/Antipope_Benedict_XIII\n",
      "https://en.wikipedia.org/wiki/Antipope_Eulalius\n",
      "https://en.wikipedia.org/wiki/Amadeus_VIII,_Duke_of_Savoy\n",
      "https://en.wikipedia.org/wiki/Antipope_Philip\n",
      "https://en.wikipedia.org/wiki/Antipope_Dioscorus\n",
      "https://en.wikipedia.org/wiki/Antipope_Boniface_VII\n",
      "https://en.wikipedia.org/wiki/Antipope_Constantine_II\n",
      "https://en.wikipedia.org/wiki/Antipope_Christopher\n",
      "https://en.wikipedia.org/wiki/Antipope_John_VIII\n",
      "https://en.wikipedia.org/wiki/Antipope_Anacletus_II\n",
      "https://en.wikipedia.org/wiki/Antipope_Theodore\n",
      "https://en.wikipedia.org/wiki/Antipope_Paschal_(687)\n",
      "https://en.wikipedia.org/wiki/Antipope_Clement_VII\n",
      "https://en.wikipedia.org/wiki/Antipope_Gregory_VI\n",
      "https://en.wikipedia.org/wiki/Antipope_Clement_III\n",
      "https://en.wikipedia.org/wiki/Antipope_Paschal_III\n",
      "https://en.wikipedia.org/wiki/Antipope_John_XVI\n",
      "https://en.wikipedia.org/wiki/Antipope_Nicholas_V\n",
      "https://en.wikipedia.org/wiki/Antipope_Clement_VIII\n",
      "https://en.wikipedia.org/wiki/Antipope_Innocent_III\n",
      "https://en.wikipedia.org/wiki/Antipope_Honorius_II\n",
      "https://en.wikipedia.org/wiki/Teobaldo_Boccapecci\n",
      "https://en.wikipedia.org/wiki/Antipope_Theodoric\n",
      "https://en.wikipedia.org/wiki/Antipope_Callixtus_III\n",
      "https://en.wikipedia.org/wiki/Antipope_Gregory_VIII\n",
      "https://en.wikipedia.org/wiki/Antipope_Sylvester_IV\n",
      "https://en.wikipedia.org/wiki/Antipope_Natalius\n",
      "https://en.wikipedia.org/wiki/Antipope_Adalbert\n",
      "https://en.wikipedia.org/wiki/Antipope_Victor_IV_(1138)\n",
      "https://en.wikipedia.org/wiki/Bernard_Garnier\n",
      "https://en.wikipedia.org/wiki/Clemente_Dom%C3%ADnguez_y_G%C3%B3mez\n",
      "https://en.wikipedia.org/wiki/Lucian_Pulvermacher\n",
      "https://en.wikipedia.org/wiki/Jean-Gaston_Tremblay\n"
     ]
    }
   ],
   "source": [
    "for kod, link in seznam.items():\n",
    "    if link != None:\n",
    "        print(link)\n",
    "        r = requests.get(link)\n",
    "        with open(os.path.join(kam, f'{kod}.html'), 'w+', encoding='utf-8') as soubor:\n",
    "            soubor.write(r.text)"
   ]
  }
 ],
 "metadata": {
  "kernelspec": {
   "display_name": "Python 3 (ipykernel)",
   "language": "python",
   "name": "python3"
  },
  "language_info": {
   "codemirror_mode": {
    "name": "ipython",
    "version": 3
   },
   "file_extension": ".py",
   "mimetype": "text/x-python",
   "name": "python",
   "nbconvert_exporter": "python",
   "pygments_lexer": "ipython3",
   "version": "3.12.3"
  }
 },
 "nbformat": 4,
 "nbformat_minor": 5
}
