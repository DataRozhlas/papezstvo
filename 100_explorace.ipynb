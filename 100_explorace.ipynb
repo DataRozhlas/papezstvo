{
 "cells": [
  {
   "cell_type": "code",
   "execution_count": 220,
   "id": "444cc25f-2784-4578-8b4c-32ce7b775c7c",
   "metadata": {},
   "outputs": [],
   "source": [
    "import polars as pl\n",
    "import altair as alt"
   ]
  },
  {
   "cell_type": "code",
   "execution_count": 221,
   "id": "a04cf5fc-6716-4a74-af33-7cf1869d8eec",
   "metadata": {},
   "outputs": [],
   "source": [
    "df = pl.read_parquet('data/papezstvo.parquet', use_pyarrow=True)"
   ]
  },
  {
   "cell_type": "code",
   "execution_count": 222,
   "id": "d9c2c48a-4b32-4959-b07d-9e83b927a206",
   "metadata": {},
   "outputs": [
    {
     "ename": "ColumnNotFoundError",
     "evalue": "narozeni_souradnice\n\nResolved plan until failure:\n\n\t---> FAILED HERE RESOLVING 'with_columns' <---\nDF [\"vatikan_poradi\", \"vatikan_jmeno\", \"vatikan_pontifikat_zacatek\", \"vatikan_pontifikat_konec\"]; PROJECT */8 COLUMNS; SELECTION: None",
     "output_type": "error",
     "traceback": [
      "\u001b[1;31m---------------------------------------------------------------------------\u001b[0m",
      "\u001b[1;31mColumnNotFoundError\u001b[0m                       Traceback (most recent call last)",
      "Cell \u001b[1;32mIn[222], line 9\u001b[0m\n\u001b[0;32m      6\u001b[0m     \u001b[38;5;28;01mexcept\u001b[39;00m:\n\u001b[0;32m      7\u001b[0m         \u001b[38;5;28;01mNone\u001b[39;00m\n\u001b[1;32m----> 9\u001b[0m df \u001b[38;5;241m=\u001b[39m df\u001b[38;5;241m.\u001b[39mwith_columns(pl\u001b[38;5;241m.\u001b[39mcol(\u001b[38;5;124m'\u001b[39m\u001b[38;5;124mnarozeni_souradnice\u001b[39m\u001b[38;5;124m'\u001b[39m)\u001b[38;5;241m.\u001b[39mmap_elements(vzdalenost_od_rima)\u001b[38;5;241m.\u001b[39malias(\u001b[38;5;124m'\u001b[39m\u001b[38;5;124mvzdalenost_od_rima\u001b[39m\u001b[38;5;124m'\u001b[39m))\n",
      "File \u001b[1;32m~\\anaconda3\\Lib\\site-packages\\polars\\dataframe\\frame.py:9183\u001b[0m, in \u001b[0;36mDataFrame.with_columns\u001b[1;34m(self, *exprs, **named_exprs)\u001b[0m\n\u001b[0;32m   9037\u001b[0m \u001b[38;5;28;01mdef\u001b[39;00m \u001b[38;5;21mwith_columns\u001b[39m(\n\u001b[0;32m   9038\u001b[0m     \u001b[38;5;28mself\u001b[39m,\n\u001b[0;32m   9039\u001b[0m     \u001b[38;5;241m*\u001b[39mexprs: IntoExpr \u001b[38;5;241m|\u001b[39m Iterable[IntoExpr],\n\u001b[0;32m   9040\u001b[0m     \u001b[38;5;241m*\u001b[39m\u001b[38;5;241m*\u001b[39mnamed_exprs: IntoExpr,\n\u001b[0;32m   9041\u001b[0m ) \u001b[38;5;241m-\u001b[39m\u001b[38;5;241m>\u001b[39m DataFrame:\n\u001b[0;32m   9042\u001b[0m \u001b[38;5;250m    \u001b[39m\u001b[38;5;124;03m\"\"\"\u001b[39;00m\n\u001b[0;32m   9043\u001b[0m \u001b[38;5;124;03m    Add columns to this DataFrame.\u001b[39;00m\n\u001b[0;32m   9044\u001b[0m \n\u001b[1;32m   (...)\u001b[0m\n\u001b[0;32m   9181\u001b[0m \u001b[38;5;124;03m    └─────┴──────┴─────────────┘\u001b[39;00m\n\u001b[0;32m   9182\u001b[0m \u001b[38;5;124;03m    \"\"\"\u001b[39;00m\n\u001b[1;32m-> 9183\u001b[0m     \u001b[38;5;28;01mreturn\u001b[39;00m \u001b[38;5;28mself\u001b[39m\u001b[38;5;241m.\u001b[39mlazy()\u001b[38;5;241m.\u001b[39mwith_columns(\u001b[38;5;241m*\u001b[39mexprs, \u001b[38;5;241m*\u001b[39m\u001b[38;5;241m*\u001b[39mnamed_exprs)\u001b[38;5;241m.\u001b[39mcollect(_eager\u001b[38;5;241m=\u001b[39m\u001b[38;5;28;01mTrue\u001b[39;00m)\n",
      "File \u001b[1;32m~\\anaconda3\\Lib\\site-packages\\polars\\lazyframe\\frame.py:2050\u001b[0m, in \u001b[0;36mLazyFrame.collect\u001b[1;34m(self, type_coercion, predicate_pushdown, projection_pushdown, simplify_expression, slice_pushdown, comm_subplan_elim, comm_subexpr_elim, cluster_with_columns, collapse_joins, no_optimization, streaming, engine, background, _eager, **_kwargs)\u001b[0m\n\u001b[0;32m   2048\u001b[0m \u001b[38;5;66;03m# Only for testing purposes\u001b[39;00m\n\u001b[0;32m   2049\u001b[0m callback \u001b[38;5;241m=\u001b[39m _kwargs\u001b[38;5;241m.\u001b[39mget(\u001b[38;5;124m\"\u001b[39m\u001b[38;5;124mpost_opt_callback\u001b[39m\u001b[38;5;124m\"\u001b[39m, callback)\n\u001b[1;32m-> 2050\u001b[0m \u001b[38;5;28;01mreturn\u001b[39;00m wrap_df(ldf\u001b[38;5;241m.\u001b[39mcollect(callback))\n",
      "\u001b[1;31mColumnNotFoundError\u001b[0m: narozeni_souradnice\n\nResolved plan until failure:\n\n\t---> FAILED HERE RESOLVING 'with_columns' <---\nDF [\"vatikan_poradi\", \"vatikan_jmeno\", \"vatikan_pontifikat_zacatek\", \"vatikan_pontifikat_konec\"]; PROJECT */8 COLUMNS; SELECTION: None"
     ]
    }
   ],
   "source": [
    "import geopy.distance\n",
    "\n",
    "def vzdalenost_od_rima(souradnice):\n",
    "    try:\n",
    "        return geopy.distance.geodesic((souradnice['latitude'],souradnice['longitude']), {41.893056,12.482778}).kilometers\n",
    "    except:\n",
    "        None\n",
    "\n",
    "df = df.with_columns(pl.col('narozeni_souradnice').map_elements(vzdalenost_od_rima).alias('vzdalenost_od_rima'))"
   ]
  },
  {
   "cell_type": "code",
   "execution_count": null,
   "id": "f8b85d8b-4a15-489e-be6c-a4fee774c735",
   "metadata": {},
   "outputs": [],
   "source": [
    "def stoleti(datum):\n",
    "    return f\"{int(str(datum)[0:2]) + 1}. století\""
   ]
  },
  {
   "cell_type": "code",
   "execution_count": null,
   "id": "7fae27a3-170c-41c9-8f4c-e9dbfa6df077",
   "metadata": {},
   "outputs": [],
   "source": [
    "def cislo_stoleti(datum):\n",
    "    return int(str(datum)[0:2]) + 1"
   ]
  },
  {
   "cell_type": "code",
   "execution_count": null,
   "id": "b0e693da-1356-4771-b4ab-995d7c793a5b",
   "metadata": {},
   "outputs": [],
   "source": [
    "df.select(pl.col(\"pontifikat_zacatek\")).to_series().to_list()[0]"
   ]
  },
  {
   "cell_type": "code",
   "execution_count": null,
   "id": "11a54055-c77e-4503-b321-93f6a90b35bb",
   "metadata": {},
   "outputs": [],
   "source": [
    "stoleti(df.select(pl.col(\"pontifikat_zacatek\")).to_series().to_list()[0])"
   ]
  },
  {
   "cell_type": "code",
   "execution_count": null,
   "id": "4c18c679-0611-46a1-bba6-af0e281307be",
   "metadata": {},
   "outputs": [],
   "source": [
    "df.with_columns(pl.col(\"pontifikat_zacatek\").map_elements(stoleti).alias(\"stoleti\"))"
   ]
  },
  {
   "cell_type": "code",
   "execution_count": null,
   "id": "ef947384-8748-4194-a31d-362ae66abb5e",
   "metadata": {},
   "outputs": [],
   "source": [
    "def rok(datum):\n",
    "    return int(str(datum)[2:4])"
   ]
  },
  {
   "cell_type": "code",
   "execution_count": null,
   "id": "c1cbaee4-ab30-4c0b-9084-346e591a78b8",
   "metadata": {},
   "outputs": [],
   "source": []
  },
  {
   "cell_type": "code",
   "execution_count": null,
   "id": "7767d5ec-a354-400a-87ae-e8f97c8941d9",
   "metadata": {},
   "outputs": [],
   "source": [
    "do_grafu = df.with_columns(\n",
    "    pl.col(\"pontifikat_zacatek\").map_elements(cislo_stoleti).alias(\"stoleti\")\n",
    ").with_columns(\n",
    "    pl.col(\"pontifikat_zacatek\").map_elements(rok).cast(pl.Int8).alias('rok_zacatku')\n",
    ").with_columns(\n",
    "    pl.col(\"pontifikat_konec\").map_elements(rok).cast(pl.Int8).alias('rok_konce')\n",
    ")\n",
    "\n",
    "maska = do_grafu[\"rok_konce\"] < do_grafu[\"rok_zacatku\"]\n",
    "opakovane = do_grafu.filter(maska).with_columns(\n",
    "    pl.lit(0).cast(pl.Int8).alias(\"rok_zacatku\")).with_columns(pl.col('stoleti') + 1\n",
    ")\n",
    "\n",
    "do_grafu_1 = pl.concat([do_grafu, opakovane], how=\"vertical\").sort(by='pontifikat_zacatek')\n",
    "\n",
    "poradi_stoleti = ['1. století',\n",
    "          '2. století',\n",
    "          '3. století',\n",
    "          '4. století', \n",
    "          '5. století',\n",
    "        '6. století',\n",
    "          '7. století',\n",
    "           '8. století',\n",
    "          '9. století',\n",
    "          '10. století',\n",
    " '11. století',\n",
    " '12. století',\n",
    "          '13. století',\n",
    " '14. století',\n",
    " \n",
    " '15. století',\n",
    " '16. století',\n",
    " '17. století',\n",
    " '18. století',\n",
    " '19. století',\n",
    "          '20. století',\n",
    " '21. století', \n",
    "]\n",
    "\n",
    "poradi_papezu = do_grafu.sort(by='pontifikat_zacatek').select(pl.col('jmeno')).to_series().to_list()"
   ]
  },
  {
   "cell_type": "code",
   "execution_count": null,
   "id": "18a9a891-9568-48d1-a5f4-5e47e1f14266",
   "metadata": {},
   "outputs": [],
   "source": [
    "alt.Chart(\n",
    "    do_grafu_1.with_columns(pl.col(\"wikihesla\").map_elements(len)).to_pandas()\n",
    ").mark_line(\n",
    ").encode(\n",
    "    alt.X(\"rok_zacatku:Q\"),\n",
    "    alt.X2(\"rok_konce:Q\"),\n",
    "    alt.Color(\"jmeno:N\", scale=alt.Scale(range=['#AF4752', '#01A1BC', '#F1AFC5', '#F89E43', '#A1D3D9', '#E6B095', '#9CB872', '#B3CBD2']), sort=poradi_papezu, legend=None),\n",
    "    alt.Row('stoleti:N', header=alt.Header(labelOrient='left',labelAngle=0), spacing=5),\n",
    "    alt.Size('wikihesla:Q', scale=alt.Scale(range=[0.01,10]), legend=None)\n",
    ").configure_view(stroke='transparent')"
   ]
  },
  {
   "cell_type": "code",
   "execution_count": null,
   "id": "0b41046b-93c8-47f8-b562-c780e82d5402",
   "metadata": {},
   "outputs": [],
   "source": [
    "alt.Chart(\n",
    "    do_grafu.with_columns(pl.col(\"wikihesla\").map_elements(len)).unique(subset=[\"jmeno\"]).to_pandas()\n",
    ").mark_line(\n",
    ").encode(\n",
    "    alt.X(\"pontifikat_zacatek:T\"),\n",
    "    alt.X2(\"pontifikat_konec:T\"),\n",
    "    alt.Color(\"jmeno:N\", scale=alt.Scale(range=['#AF4752', '#01A1BC', '#F1AFC5', '#F89E43', '#A1D3D9', '#E6B095', '#9CB872', '#B3CBD2']), sort=poradi_papezu, legend=None),\n",
    "    alt.Size('wikihesla:Q', scale=alt.Scale(range=[0.01,10]), legend=None)\n",
    ").configure_view(stroke='transparent')"
   ]
  },
  {
   "cell_type": "code",
   "execution_count": null,
   "id": "2e648634-2564-4a5c-8cfd-5ff6299ac6ad",
   "metadata": {},
   "outputs": [],
   "source": [
    "do_grafu.filter(pl.col('stoleti') == 17).head(10)"
   ]
  },
  {
   "cell_type": "code",
   "execution_count": null,
   "id": "49cbbd45-1724-4251-ac0c-b0aa21dac85f",
   "metadata": {},
   "outputs": [],
   "source": [
    "rok(df.select(pl.col(\"pontifikat_zacatek\")).to_series().to_list()[3])"
   ]
  },
  {
   "cell_type": "code",
   "execution_count": null,
   "id": "f1ca76f2-ac77-4690-b910-880a57194d3c",
   "metadata": {},
   "outputs": [],
   "source": [
    "do_grafu_2 = df.with_columns(\n",
    "    (pl.col(\"pontifikat_zacatek\") - pl.col(\"narozeni_datum\")).alias(\"nastupni_vek\")\n",
    ").with_columns(\n",
    "    pl.col(\"nastupni_vek\").dt.total_days() / 365.25\n",
    ").with_columns(\n",
    "    ((pl.col(\"umrti_datum\") - pl.col(\"pontifikat_zacatek\")).dt.total_days() / 365.25).alias(\"zivot_po_zvoleni\")\n",
    ").with_columns(((pl.col('pontifikat_konec') - pl.col('narozeni_datum')).dt.total_days() / 365).alias('konecny_vek'))"
   ]
  },
  {
   "cell_type": "code",
   "execution_count": null,
   "id": "ad38807f-211e-49c6-a935-e05327475009",
   "metadata": {},
   "outputs": [],
   "source": [
    "do_grafu_2"
   ]
  },
  {
   "cell_type": "code",
   "execution_count": null,
   "id": "8e96a120-6838-475f-9ed9-8f332bb541ae",
   "metadata": {},
   "outputs": [],
   "source": [
    "df.tail(100).select(pl.col('vzdalenost_od_rima').quantile(0.9))"
   ]
  },
  {
   "cell_type": "code",
   "execution_count": null,
   "id": "0995d303-f2c7-4f6f-874a-79df658af2ed",
   "metadata": {},
   "outputs": [],
   "source": [
    "alt.Chart(\n",
    "    do_grafu_2.tail(100).filter(pl.col(\"narozeni_presnost\") >= 9).to_pandas(),\n",
    "    width=300\n",
    ").mark_bar(width=2\n",
    ").encode(\n",
    "    alt.X(\"pontifikat_zacatek:T\"),\n",
    "    alt.Y(\"nastupni_vek:Q\"),\n",
    "    alt.Y2(\"konecny_vek:Q\"),\n",
    "    alt.Color(\"vzdalenost_kategorie:N\")\n",
    ").configure_view(stroke='transparent')"
   ]
  },
  {
   "cell_type": "code",
   "execution_count": null,
   "id": "79852c83-6074-4ca9-b3f5-2a0f74e83489",
   "metadata": {},
   "outputs": [],
   "source": [
    "do_grafu_2"
   ]
  },
  {
   "cell_type": "code",
   "execution_count": null,
   "id": "cad78f6f-733d-495a-93a7-22dee9ebafcf",
   "metadata": {},
   "outputs": [],
   "source": [
    "alt.Chart(\n",
    "    do_grafu_2.to_pandas(), width=300\n",
    ").mark_bar(\n",
    ").encode(\n",
    "    alt.X(\"pontifikat_zacatek:T\"),\n",
    "    alt.X2(\"pontifikat_konec:T\"),\n",
    "    alt.Color(\"narozeni_presnost:N\"),\n",
    ").configure_view(stroke='transparent')"
   ]
  },
  {
   "cell_type": "code",
   "execution_count": null,
   "id": "e05bdaa9-25f6-44e9-953e-715e2976fc14",
   "metadata": {},
   "outputs": [],
   "source": [
    "do_grafu_2.with_columns(pl.col('wikihesla').map_elements(len))"
   ]
  },
  {
   "cell_type": "code",
   "execution_count": null,
   "id": "1ffd8fd4-2f71-4465-b1a5-ea772ee7cd4c",
   "metadata": {},
   "outputs": [],
   "source": [
    "alt.Chart(\n",
    "    do_grafu_2.with_columns(pl.col('wikihesla').map_elements(len)).to_pandas(), width=300\n",
    ").mark_bar(\n",
    ").encode(\n",
    "    alt.X(\"pontifikat_zacatek:T\"),\n",
    "    alt.X2(\"pontifikat_konec:T\"),\n",
    "    alt.Y(\"wikihesla:Q\"),\n",
    ").configure_view(stroke='transparent')"
   ]
  },
  {
   "cell_type": "code",
   "execution_count": null,
   "id": "02d2878e-dc76-442e-9fbc-af3107b40668",
   "metadata": {},
   "outputs": [],
   "source": [
    "do_grafu_2.filter(pl.col(\"pontifikat_zacatek\").dt.year() > 1600).group_by_dynamic(index_column=\"pontifikat_zacatek\", every=\"50y\").agg(pl.col(\"jmeno\").unique().len()).sort(by=\"jmeno\")"
   ]
  },
  {
   "cell_type": "code",
   "execution_count": null,
   "id": "edcf9e43-b074-4d2a-a47e-79018c81ea14",
   "metadata": {},
   "outputs": [],
   "source": [
    "df.tail(100).sort(by='vzdalenost_od_rima')"
   ]
  },
  {
   "cell_type": "code",
   "execution_count": null,
   "id": "596cebb1-f6c0-436d-9e46-fa0e0b910e20",
   "metadata": {},
   "outputs": [],
   "source": [
    "alt.Chart(df.filter(~pl.col('vzdalenost_od_rima').is_null()).to_pandas()).mark_bar().encode(alt.X('pontifikat_zacatek:T'),alt.Y('vzdalenost_od_rima:Q'))"
   ]
  },
  {
   "cell_type": "code",
   "execution_count": null,
   "id": "02fa83dd-0019-4cef-a92c-8010e95286af",
   "metadata": {},
   "outputs": [],
   "source": [
    "df.filter(pl.col(\"narozeni_presnost\") != 11).tail(5)"
   ]
  },
  {
   "cell_type": "code",
   "execution_count": null,
   "id": "bca11b08-28f2-490f-9bf1-b4c17e2b60bf",
   "metadata": {},
   "outputs": [],
   "source": [
    "df.filter(pl.col(\"krest_datum\").is_not_null()).tail(5)"
   ]
  },
  {
   "cell_type": "code",
   "execution_count": null,
   "id": "a9ab2a5c-699f-4b70-a635-8736b9338c6e",
   "metadata": {},
   "outputs": [],
   "source": [
    "df.filter(pl.col(\"umrti_kategorie\") != \"přirozená smrt\").tail(5)"
   ]
  },
  {
   "cell_type": "code",
   "execution_count": null,
   "id": "8847208f-f352-41fe-80a4-02e398e8d03d",
   "metadata": {},
   "outputs": [],
   "source": [
    "df.filter(pl.col(\"umrti_kategorie\").is_null()).tail(5)"
   ]
  },
  {
   "cell_type": "code",
   "execution_count": null,
   "id": "29b6b990-0b5f-4818-9efe-7615e58f140e",
   "metadata": {},
   "outputs": [],
   "source": []
  },
  {
   "cell_type": "markdown",
   "id": "8be1390d-4b7b-46e3-bd7a-3d45d8f71614",
   "metadata": {},
   "source": [
    "## Poslední…"
   ]
  },
  {
   "cell_type": "code",
   "execution_count": null,
   "id": "fe16d0f0-0496-4678-ba75-9dae6e494fb4",
   "metadata": {},
   "outputs": [],
   "source": [
    "df.filter(pl.col(\"vzdalenost_od_rima\") < 25).sort(by=\"pontifikat_zacatek\",descending=True).head(1)"
   ]
  },
  {
   "cell_type": "code",
   "execution_count": null,
   "id": "0cee4672-1d08-4c3a-b349-5c0e4ee6e029",
   "metadata": {},
   "outputs": [],
   "source": [
    "df.filter(pl.col(\"pontifikat_zacatek\").dt.year() < 2010).drop_nulls(subset=['vzdalenost_od_rima']).sort(by=\"vzdalenost_od_rima\",descending=True).head(3)"
   ]
  },
  {
   "cell_type": "code",
   "execution_count": null,
   "id": "765bacc5-2f9c-4e96-a919-267a4732548b",
   "metadata": {},
   "outputs": [],
   "source": [
    "do_grafu_2.sort(by='pontifikat_zacatek',descending=True).filter(pl.col('nastupni_vek') < 60).head(1)"
   ]
  },
  {
   "cell_type": "code",
   "execution_count": null,
   "id": "fb80ff2d-17f8-401c-922a-8a869472c545",
   "metadata": {},
   "outputs": [],
   "source": [
    "do_grafu_2.sort(by='pontifikat_zacatek',descending=True).filter(pl.col('nastupni_vek') < 55).head(1)"
   ]
  },
  {
   "cell_type": "code",
   "execution_count": null,
   "id": "8b14d960-18d7-4093-abfc-d73dcf1d4536",
   "metadata": {},
   "outputs": [],
   "source": [
    "do_grafu_2.sort(by='pontifikat_zacatek',descending=True).filter(pl.col('nastupni_vek') < 50).head(1)"
   ]
  },
  {
   "cell_type": "code",
   "execution_count": null,
   "id": "957423be-427c-46fc-8482-945b956aa24a",
   "metadata": {},
   "outputs": [],
   "source": [
    "do_grafu_2.sort(by='pontifikat_zacatek',descending=True).filter(pl.col('nastupni_vek') < 45).head(1)"
   ]
  },
  {
   "cell_type": "code",
   "execution_count": null,
   "id": "b2f4094e-c01c-41bd-a2fc-190d9d156dd0",
   "metadata": {},
   "outputs": [],
   "source": [
    "do_grafu_2.sort(by='pontifikat_zacatek',descending=True).filter(pl.col('nastupni_vek') < 35).head(1)"
   ]
  },
  {
   "cell_type": "code",
   "execution_count": null,
   "id": "aa515136-70d9-4b64-9767-76d91175476f",
   "metadata": {},
   "outputs": [],
   "source": [
    "len(df)"
   ]
  },
  {
   "cell_type": "markdown",
   "id": "40c659e0-9305-4712-a4c7-adead956cfd0",
   "metadata": {},
   "source": [
    "## Kolik za život"
   ]
  },
  {
   "cell_type": "code",
   "execution_count": null,
   "id": "9868068a-8f42-4962-b28b-690640699fd0",
   "metadata": {},
   "outputs": [],
   "source": [
    "len(df.filter(pl.col(\"pontifikat_zacatek\").dt.year() >= 2025-45))"
   ]
  },
  {
   "cell_type": "code",
   "execution_count": null,
   "id": "f6c74a74-2ec8-4cd7-ac6c-15c38f2f1b0e",
   "metadata": {},
   "outputs": [],
   "source": [
    "rocniky = []\n",
    "for rok in range(50, 2025):\n",
    "    rocnik = {}\n",
    "    rocnik['narozeni'] = rok\n",
    "    for let in [20,30,40,45,50,60,70,80,90,100]:\n",
    "        rocnik[f'papezu_do_{let}'] = len(df.filter((pl.col(\"pontifikat_zacatek\").dt.year() >= rok-let) & (pl.col(\"pontifikat_zacatek\").dt.year() <= rok)))\n",
    "    rocniky.append(rocnik)"
   ]
  },
  {
   "cell_type": "code",
   "execution_count": null,
   "id": "c69eaf37-7b5d-43fc-b20f-d3f0a8f94daf",
   "metadata": {},
   "outputs": [],
   "source": [
    "pl.DataFrame(rocniky)"
   ]
  },
  {
   "cell_type": "code",
   "execution_count": null,
   "id": "503708bf-3f5f-4aec-aba0-85c24187d4d0",
   "metadata": {},
   "outputs": [],
   "source": [
    "pl.DataFrame(rocniky).filter(pl.col('narozeni') >= 100).sort(by='papezu_do_45')"
   ]
  },
  {
   "cell_type": "code",
   "execution_count": null,
   "id": "067688f4-23b9-4cef-afdb-1e281c550b43",
   "metadata": {},
   "outputs": [],
   "source": [
    "pl.DataFrame(rocniky).filter(pl.col('narozeni') >= 100).filter(pl.col('papezu_do_45') <= 2).sort(by='narozeni')"
   ]
  },
  {
   "cell_type": "code",
   "execution_count": null,
   "id": "fbe733f0-20fb-4e5f-9200-6cd1868953b6",
   "metadata": {},
   "outputs": [],
   "source": [
    "pl.DataFrame(rocniky).filter(pl.col('narozeni') >= 100).filter(pl.col('papezu_do_40') <= 2).sort(by='narozeni')"
   ]
  },
  {
   "cell_type": "code",
   "execution_count": null,
   "id": "fe82acb4-85ea-4a2c-b1e1-adab200fca8c",
   "metadata": {},
   "outputs": [],
   "source": [
    "alt.Chart(\n",
    "    pl.DataFrame(rocniky).sort(by='narozeni'),\n",
    "    width=350,\n",
    "    title=\"Kolik papežů zažili 40letí a 80letí\"\n",
    ").mark_line().encode(\n",
    "    alt.X(\"narozeni:Q\"),\n",
    "    alt.Y(\"papezu_do_40:Q\"),\n",
    "    alt.Y2(\"papezu_do_80:Q\")\n",
    ")"
   ]
  },
  {
   "cell_type": "code",
   "execution_count": null,
   "id": "10a0a123-b75c-4429-be51-153c6cf30c50",
   "metadata": {},
   "outputs": [],
   "source": [
    "alt.Chart(\n",
    "    pl.DataFrame(rocniky).sort(by='narozeni'),\n",
    "    width=350,\n",
    "    title=\"Kolik papežů zažili 40letí a 80letí\"\n",
    ").mark_line().encode(\n",
    "    alt.X(\"narozeni:Q\"),\n",
    "    alt.Y(\"papezu_do_50:Q\")\n",
    ")"
   ]
  },
  {
   "cell_type": "code",
   "execution_count": null,
   "id": "30af6e15-cf07-4cc3-85b0-4df5709c5ffa",
   "metadata": {},
   "outputs": [],
   "source": [
    "pl.DataFrame(rocniky).filter(pl.col('narozeni') >= 100).filter(pl.col('papezu_do_40') >= 6).sort(by='narozeni')"
   ]
  },
  {
   "cell_type": "code",
   "execution_count": null,
   "id": "04cf0305-3e95-4061-876b-8c8f5ecabc1b",
   "metadata": {},
   "outputs": [],
   "source": [
    "pl.DataFrame(rocniky).filter(pl.col('narozeni') >= 100).filter(pl.col('papezu_do_40') <= 1).tail(20)"
   ]
  },
  {
   "cell_type": "code",
   "execution_count": null,
   "id": "845615ea-b795-40cf-bb78-07f6b74ac0a3",
   "metadata": {},
   "outputs": [],
   "source": []
  }
 ],
 "metadata": {
  "kernelspec": {
   "display_name": "Python 3 (ipykernel)",
   "language": "python",
   "name": "python3"
  },
  "language_info": {
   "codemirror_mode": {
    "name": "ipython",
    "version": 3
   },
   "file_extension": ".py",
   "mimetype": "text/x-python",
   "name": "python",
   "nbconvert_exporter": "python",
   "pygments_lexer": "ipython3",
   "version": "3.12.3"
  }
 },
 "nbformat": 4,
 "nbformat_minor": 5
}
