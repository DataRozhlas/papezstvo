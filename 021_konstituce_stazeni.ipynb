{
 "cells": [
  {
   "cell_type": "code",
   "execution_count": 1,
   "id": "b6820e5a-7197-4d79-a259-6b6ef0237b60",
   "metadata": {},
   "outputs": [],
   "source": [
    "import os\n",
    "import requests\n",
    "from bs4 import BeautifulSoup"
   ]
  },
  {
   "cell_type": "code",
   "execution_count": 3,
   "id": "79dfe530-a4ed-4f67-9f18-b983b54b466f",
   "metadata": {},
   "outputs": [],
   "source": [
    "seznam_url = \"https://gcatholic.org/documents/data/type-PAC\""
   ]
  },
  {
   "cell_type": "code",
   "execution_count": 5,
   "id": "eae41fde-9e06-4ebe-9cf1-7daa4ff8aa66",
   "metadata": {},
   "outputs": [],
   "source": [
    "seznam_stranka = requests.get(seznam_url)"
   ]
  },
  {
   "cell_type": "code",
   "execution_count": 7,
   "id": "2dad57e1-8ffd-4d7b-bb87-356a9872dc39",
   "metadata": {},
   "outputs": [],
   "source": [
    "seznam_polivka = BeautifulSoup(seznam_stranka.text)"
   ]
  },
  {
   "cell_type": "code",
   "execution_count": 9,
   "id": "1d2a52c4-07cf-40ce-b6fa-49cbb0c5f7e1",
   "metadata": {},
   "outputs": [],
   "source": [
    "dokumenty = []\n",
    "for radek in seznam_polivka.find_all('tr'):\n",
    "    if 'Pope' in radek.text:\n",
    "        dokument = {}\n",
    "        if radek.find(class_='doc'):\n",
    "            dokument['nazev'] = radek.find(class_='doc').text.strip()\n",
    "            dokument['dokument'] = 'konstituce'\n",
    "            tagy = []\n",
    "            for t in radek.find_all(class_='tag'):\n",
    "                tagy.append(t.text.strip())\n",
    "            dokument['tagy'] = tagy\n",
    "            dokument['papez'] = radek.find_all('td')[1].text.strip()\n",
    "            datum = radek.find_all('td')[2].text.strip()\n",
    "            dokument['datum'] = datum\n",
    "            dokumenty.append(dokument)"
   ]
  },
  {
   "cell_type": "code",
   "execution_count": 11,
   "id": "60fca1af-fd83-422d-bf63-bc443b20cc17",
   "metadata": {},
   "outputs": [],
   "source": [
    "import polars as pl"
   ]
  },
  {
   "cell_type": "code",
   "execution_count": 13,
   "id": "fd823222-aaf1-4446-9f01-271729be4498",
   "metadata": {},
   "outputs": [],
   "source": [
    "df = pl.DataFrame(dokumenty).with_columns(pl.col('datum').str.to_date())"
   ]
  },
  {
   "cell_type": "code",
   "execution_count": 17,
   "id": "624a90ee-8702-40e1-a9b2-4c6c448492f2",
   "metadata": {},
   "outputs": [
    {
     "data": {
      "text/html": [
       "<div><style>\n",
       ".dataframe > thead > tr,\n",
       ".dataframe > tbody > tr {\n",
       "  text-align: right;\n",
       "  white-space: pre-wrap;\n",
       "}\n",
       "</style>\n",
       "<small>shape: (62, 5)</small><table border=\"1\" class=\"dataframe\"><thead><tr><th>nazev</th><th>dokument</th><th>tagy</th><th>papez</th><th>datum</th></tr><tr><td>str</td><td>str</td><td>list[str]</td><td>str</td><td>date</td></tr></thead><tbody><tr><td>&quot;In ecclesiarum communione&quot;</td><td>&quot;konstituce&quot;</td><td>[]</td><td>&quot;Pope Francis&quot;</td><td>2023-01-06</td></tr><tr><td>&quot;Prædicate evangelium&quot;</td><td>&quot;konstituce&quot;</td><td>[&quot;canon law&quot;, &quot;Roman Curia&quot;]</td><td>&quot;Pope Francis&quot;</td><td>2022-03-19</td></tr><tr><td>&quot;Pascite gregem Dei&quot;</td><td>&quot;konstituce&quot;</td><td>[&quot;canon law&quot;]</td><td>&quot;Pope Francis&quot;</td><td>2021-05-23</td></tr><tr><td>&quot;Episcopalis communio&quot;</td><td>&quot;konstituce&quot;</td><td>[&quot;synod&quot;]</td><td>&quot;Pope Francis&quot;</td><td>2018-09-15</td></tr><tr><td>&quot;Veritatis Gaudium&quot;</td><td>&quot;konstituce&quot;</td><td>[&quot;university&quot;]</td><td>&quot;Pope Francis&quot;</td><td>2017-12-08</td></tr><tr><td>&hellip;</td><td>&hellip;</td><td>&hellip;</td><td>&hellip;</td><td>&hellip;</td></tr><tr><td>&quot;Postquam&quot;</td><td>&quot;konstituce&quot;</td><td>[&quot;cardinal&quot;]</td><td>&quot;Pope Sixtus V&quot;</td><td>1586-12-03</td></tr><tr><td>&quot;Quo Primum&quot;</td><td>&quot;konstituce&quot;</td><td>[&quot;Mass&quot;]</td><td>&quot;Saint Pope Pius V&quot;</td><td>1570-07-14</td></tr><tr><td>&quot;Alias Nos&quot;</td><td>&quot;konstituce&quot;</td><td>[&quot;Roman Curia&quot;]</td><td>&quot;Pope Pius IV&quot;</td><td>1564-08-02</td></tr><tr><td>&quot;Licet ab initio&quot;</td><td>&quot;konstituce&quot;</td><td>[&quot;Roman Curia&quot;]</td><td>&quot;Pope Paul III&quot;</td><td>1542-07-21</td></tr><tr><td>&quot;In nomine Domini&quot;</td><td>&quot;konstituce&quot;</td><td>[&quot;conclave&quot;, &quot;pope&quot;]</td><td>&quot;Pope Nicholas II&quot;</td><td>1059-04-13</td></tr></tbody></table></div>"
      ],
      "text/plain": [
       "shape: (62, 5)\n",
       "┌───────────────────────────┬────────────┬──────────────────────────────┬───────────────────┬────────────┐\n",
       "│ nazev                     ┆ dokument   ┆ tagy                         ┆ papez             ┆ datum      │\n",
       "│ ---                       ┆ ---        ┆ ---                          ┆ ---               ┆ ---        │\n",
       "│ str                       ┆ str        ┆ list[str]                    ┆ str               ┆ date       │\n",
       "╞═══════════════════════════╪════════════╪══════════════════════════════╪═══════════════════╪════════════╡\n",
       "│ In ecclesiarum communione ┆ konstituce ┆ []                           ┆ Pope Francis      ┆ 2023-01-06 │\n",
       "│ Prædicate evangelium      ┆ konstituce ┆ [\"canon law\", \"Roman Curia\"] ┆ Pope Francis      ┆ 2022-03-19 │\n",
       "│ Pascite gregem Dei        ┆ konstituce ┆ [\"canon law\"]                ┆ Pope Francis      ┆ 2021-05-23 │\n",
       "│ Episcopalis communio      ┆ konstituce ┆ [\"synod\"]                    ┆ Pope Francis      ┆ 2018-09-15 │\n",
       "│ Veritatis Gaudium         ┆ konstituce ┆ [\"university\"]               ┆ Pope Francis      ┆ 2017-12-08 │\n",
       "│ …                         ┆ …          ┆ …                            ┆ …                 ┆ …          │\n",
       "│ Postquam                  ┆ konstituce ┆ [\"cardinal\"]                 ┆ Pope Sixtus V     ┆ 1586-12-03 │\n",
       "│ Quo Primum                ┆ konstituce ┆ [\"Mass\"]                     ┆ Saint Pope Pius V ┆ 1570-07-14 │\n",
       "│ Alias Nos                 ┆ konstituce ┆ [\"Roman Curia\"]              ┆ Pope Pius IV      ┆ 1564-08-02 │\n",
       "│ Licet ab initio           ┆ konstituce ┆ [\"Roman Curia\"]              ┆ Pope Paul III     ┆ 1542-07-21 │\n",
       "│ In nomine Domini          ┆ konstituce ┆ [\"conclave\", \"pope\"]         ┆ Pope Nicholas II  ┆ 1059-04-13 │\n",
       "└───────────────────────────┴────────────┴──────────────────────────────┴───────────────────┴────────────┘"
      ]
     },
     "execution_count": 17,
     "metadata": {},
     "output_type": "execute_result"
    }
   ],
   "source": [
    "df"
   ]
  },
  {
   "cell_type": "code",
   "execution_count": 15,
   "id": "19b13803-886c-45fe-a667-d3a135f28328",
   "metadata": {},
   "outputs": [],
   "source": [
    "df.write_parquet(os.path.join('data','konstituce.parquet'), use_pyarrow=True)"
   ]
  }
 ],
 "metadata": {
  "kernelspec": {
   "display_name": "Python 3 (ipykernel)",
   "language": "python",
   "name": "python3"
  },
  "language_info": {
   "codemirror_mode": {
    "name": "ipython",
    "version": 3
   },
   "file_extension": ".py",
   "mimetype": "text/x-python",
   "name": "python",
   "nbconvert_exporter": "python",
   "pygments_lexer": "ipython3",
   "version": "3.12.3"
  }
 },
 "nbformat": 4,
 "nbformat_minor": 5
}
