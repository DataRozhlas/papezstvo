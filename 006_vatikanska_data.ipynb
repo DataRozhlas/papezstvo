{
 "cells": [
  {
   "cell_type": "code",
   "execution_count": 1,
   "id": "7d627827-425d-422b-8468-4c24061ccbe2",
   "metadata": {},
   "outputs": [],
   "source": [
    "import requests\n",
    "from bs4 import BeautifulSoup"
   ]
  },
  {
   "cell_type": "code",
   "execution_count": 2,
   "id": "4ba88118-0d38-428c-869f-7cb5686ff238",
   "metadata": {},
   "outputs": [],
   "source": [
    "r = requests.get(\"https://www.vatican.va/content/vatican/en/holy-father.html\")"
   ]
  },
  {
   "cell_type": "code",
   "execution_count": 3,
   "id": "eec34628-2795-4232-8635-847953e9b0bf",
   "metadata": {},
   "outputs": [],
   "source": [
    "soup = BeautifulSoup(r.text, 'html.parser')\n",
    "\n",
    "tabulky = soup.find_all(\"table\")\n",
    "\n",
    "for t in tabulky:\n",
    "    if \"Pontianus\" in t.text:\n",
    "        tabulka = t\n",
    "\n",
    "papezstvo = []\n",
    "for radek in tabulka.find_all(\"tr\"):\n",
    "    papez = {}\n",
    "    try:\n",
    "        papez['vatikan_poradi'] = radek.find_all('td')[0].text.strip()\n",
    "        papez['vatikan_jmeno'] = radek.find_all('td')[1].text.strip()\n",
    "        papez['vatikan_pontifikat_zacatek'] = radek.find_all('td')[2].text.strip()\n",
    "        papez['vatikan_pontifikat_konec'] = radek.find_all('td')[3].text.strip()\n",
    "        papez['vatikan_obcanske_jmeno'] = radek.find_all('td')[4].text.strip()\n",
    "        papez['vatikan_narozeni_misto'] = radek.find_all('td')[5].text.strip()\n",
    "        papezstvo.append(papez)\n",
    "    except:\n",
    "        pass"
   ]
  },
  {
   "cell_type": "code",
   "execution_count": 4,
   "id": "0f13e43f-b370-408c-8d09-752fb3248b12",
   "metadata": {},
   "outputs": [],
   "source": [
    "def fix_encoding(text):\n",
    "    \"\"\"Fix text that was UTF-8 but interpreted as Latin-1/ISO-8859-1\"\"\"\n",
    "    try:\n",
    "        # First encode as Latin-1 (ISO-8859-1) to get the bytes\n",
    "        latin_bytes = text.encode('iso-8859-1')\n",
    "        # Then decode those bytes as UTF-8\n",
    "        return latin_bytes.decode('utf-8')\n",
    "    except:\n",
    "        return text\n",
    "\n",
    "for pope in papezstvo:\n",
    "    for key in pope:\n",
    "        pope[key] = fix_encoding(pope[key])"
   ]
  },
  {
   "cell_type": "code",
   "execution_count": 5,
   "id": "0f026a5c-e1c4-4abc-9e6a-00b936b46738",
   "metadata": {},
   "outputs": [
    {
     "data": {
      "text/plain": [
       "[{'vatikan_poradi': '263',\n",
       "  'vatikan_jmeno': 'John Paul I',\n",
       "  'vatikan_pontifikat_zacatek': '26.VIII, 3.IX.1978',\n",
       "  'vatikan_pontifikat_konec': '28.IX.1978',\n",
       "  'vatikan_obcanske_jmeno': 'Albino Luciani',\n",
       "  'vatikan_narozeni_misto': 'Forno di Canale (Belluno)'},\n",
       " {'vatikan_poradi': '264',\n",
       "  'vatikan_jmeno': 'John Paul II',\n",
       "  'vatikan_pontifikat_zacatek': '16,22.X.1978',\n",
       "  'vatikan_pontifikat_konec': '2.IV.2005',\n",
       "  'vatikan_obcanske_jmeno': 'Karol Wojtyła',\n",
       "  'vatikan_narozeni_misto': 'Wadowice (Kraków)'},\n",
       " {'vatikan_poradi': '265',\n",
       "  'vatikan_jmeno': 'Benedict XVI',\n",
       "  'vatikan_pontifikat_zacatek': '19,24.IV.2005',\n",
       "  'vatikan_pontifikat_konec': '28.II.2013',\n",
       "  'vatikan_obcanske_jmeno': 'Joseph Ratzinger',\n",
       "  'vatikan_narozeni_misto': 'Marktl am Inn (Bavaria)'},\n",
       " {'vatikan_poradi': '266',\n",
       "  'vatikan_jmeno': 'Francis',\n",
       "  'vatikan_pontifikat_zacatek': '13,19.III.2013',\n",
       "  'vatikan_pontifikat_konec': '21.IV.2025',\n",
       "  'vatikan_obcanske_jmeno': 'Jorge Mario Bergoglio',\n",
       "  'vatikan_narozeni_misto': 'Buenos Aires (Argentina)'},\n",
       " {'vatikan_poradi': '267',\n",
       "  'vatikan_jmeno': 'Leo XIV',\n",
       "  'vatikan_pontifikat_zacatek': '8,18.V.2025',\n",
       "  'vatikan_pontifikat_konec': '',\n",
       "  'vatikan_obcanske_jmeno': 'Robert Francis Prevost',\n",
       "  'vatikan_narozeni_misto': 'Chicago'}]"
      ]
     },
     "execution_count": 5,
     "metadata": {},
     "output_type": "execute_result"
    }
   ],
   "source": [
    "papezstvo[-5:]"
   ]
  },
  {
   "cell_type": "code",
   "execution_count": 6,
   "id": "18355435-3e29-4eb8-ac69-3fa3efa9ea3c",
   "metadata": {},
   "outputs": [],
   "source": [
    "import json"
   ]
  },
  {
   "cell_type": "code",
   "execution_count": 7,
   "id": "875fa955-2ca2-40c7-94f9-ec4b04fed9be",
   "metadata": {},
   "outputs": [],
   "source": [
    "with open(\"data_raw/papezstvo_raw_vatikan.json\", \"w+\", encoding=\"utf-8\") as f:\n",
    "    f.write(json.dumps(papezstvo))"
   ]
  }
 ],
 "metadata": {
  "kernelspec": {
   "display_name": "Python 3 (ipykernel)",
   "language": "python",
   "name": "python3"
  },
  "language_info": {
   "codemirror_mode": {
    "name": "ipython",
    "version": 3
   },
   "file_extension": ".py",
   "mimetype": "text/x-python",
   "name": "python",
   "nbconvert_exporter": "python",
   "pygments_lexer": "ipython3",
   "version": "3.12.3"
  }
 },
 "nbformat": 4,
 "nbformat_minor": 5
}
