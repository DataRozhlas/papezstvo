{
 "cells": [
  {
   "cell_type": "code",
   "execution_count": 53,
   "id": "95e48568-aa31-4b85-a86b-e2ed5c3d6e5c",
   "metadata": {},
   "outputs": [],
   "source": [
    "import os\n",
    "import requests\n",
    "from bs4 import BeautifulSoup\n",
    "import polars as pl"
   ]
  },
  {
   "cell_type": "code",
   "execution_count": 3,
   "id": "858de2e3-85a4-4970-b442-a15acbe0a488",
   "metadata": {},
   "outputs": [],
   "source": [
    "stranka = requests.get(\"https://en.wikipedia.org/wiki/List_of_canonised_popes\")"
   ]
  },
  {
   "cell_type": "code",
   "execution_count": 9,
   "id": "6382c0d9-798e-4770-b267-64d40aa75c23",
   "metadata": {},
   "outputs": [],
   "source": [
    "soup = BeautifulSoup(stranka.text)"
   ]
  },
  {
   "cell_type": "code",
   "execution_count": 11,
   "id": "7c04dc03-1003-4a4b-9838-0250f8f6a052",
   "metadata": {},
   "outputs": [],
   "source": [
    "tabulky = soup.find_all(\"table\")"
   ]
  },
  {
   "cell_type": "code",
   "execution_count": 39,
   "id": "cb0406aa-347b-4fef-9b6a-d7759eb02404",
   "metadata": {},
   "outputs": [],
   "source": [
    "for t in tabulky:\n",
    "    if \"Pope Clement I\" in t.text:\n",
    "        svati = []\n",
    "        for radek in t.find_all('tr'):\n",
    "            try:\n",
    "                svati.append(\"https://en.wikipedia.org\" + radek.find_all('td')[0].find_all('a')[0]['href'])\n",
    "            except:\n",
    "                pass\n",
    "    if \"Pope Urban V\" in t.text:\n",
    "        blahoslaveni = []\n",
    "        for radek in t.find_all('tr'):\n",
    "            try:\n",
    "                blahoslaveni.append(\"https://en.wikipedia.org\" + radek.find_all('td')[0].find_all('a')[0]['href'])\n",
    "            except:\n",
    "                pass"
   ]
  },
  {
   "cell_type": "code",
   "execution_count": 41,
   "id": "1eb03bf3-1efc-4b94-8fbe-416cec362bce",
   "metadata": {},
   "outputs": [
    {
     "data": {
      "text/plain": [
       "81"
      ]
     },
     "execution_count": 41,
     "metadata": {},
     "output_type": "execute_result"
    }
   ],
   "source": [
    "len(svati)"
   ]
  },
  {
   "cell_type": "code",
   "execution_count": 43,
   "id": "41a765c1-c392-41e2-ad11-220015faf1d3",
   "metadata": {},
   "outputs": [
    {
     "data": {
      "text/plain": [
       "10"
      ]
     },
     "execution_count": 43,
     "metadata": {},
     "output_type": "execute_result"
    }
   ],
   "source": [
    "len(blahoslaveni)"
   ]
  },
  {
   "cell_type": "code",
   "execution_count": 59,
   "id": "8d074ee0-f146-45d0-8c52-fd0a42906f6c",
   "metadata": {},
   "outputs": [],
   "source": [
    "df = pl.read_parquet(\n",
    "    'data_raw/papezstvo_raw.parquet', use_pyarrow=True\n",
    ").select(\n",
    "    ['id','jmeno','jmeno_en','wiki_en']\n",
    ").with_columns(\n",
    "    pl.when(\n",
    "        pl.col(\"wiki_en\").is_in(svati)\n",
    "    ).then(\n",
    "        pl.lit(\"svatý\")\n",
    "    ).when(\n",
    "        pl.col(\"wiki_en\").is_in(blahoslaveni)\n",
    "    ).then(\n",
    "        pl.lit('blahoslavený')\n",
    "    ).otherwise(\n",
    "        None\n",
    "    ).alias('status')\n",
    ")"
   ]
  },
  {
   "cell_type": "code",
   "execution_count": 61,
   "id": "1a99a197-8154-478c-b331-f3ebbb01f8d8",
   "metadata": {},
   "outputs": [
    {
     "data": {
      "text/html": [
       "<div><style>\n",
       ".dataframe > thead > tr,\n",
       ".dataframe > tbody > tr {\n",
       "  text-align: right;\n",
       "  white-space: pre-wrap;\n",
       "}\n",
       "</style>\n",
       "<small>shape: (265, 5)</small><table border=\"1\" class=\"dataframe\"><thead><tr><th>id</th><th>jmeno</th><th>jmeno_en</th><th>wiki_en</th><th>status</th></tr><tr><td>str</td><td>str</td><td>str</td><td>str</td><td>str</td></tr></thead><tbody><tr><td>&quot;Q33923&quot;</td><td>&quot;svatý Petr&quot;</td><td>&quot;Saint Peter&quot;</td><td>&quot;https://en.wikipedia.org/wiki/…</td><td>&quot;svatý&quot;</td></tr><tr><td>&quot;Q47144&quot;</td><td>&quot;Linus&quot;</td><td>&quot;Linus&quot;</td><td>&quot;https://en.wikipedia.org/wiki/…</td><td>&quot;svatý&quot;</td></tr><tr><td>&quot;Q80450&quot;</td><td>&quot;Anaklét&quot;</td><td>&quot;Anacletus&quot;</td><td>&quot;https://en.wikipedia.org/wiki/…</td><td>&quot;svatý&quot;</td></tr><tr><td>&quot;Q42887&quot;</td><td>&quot;Klement I.&quot;</td><td>&quot;Clement I&quot;</td><td>&quot;https://en.wikipedia.org/wiki/…</td><td>null</td></tr><tr><td>&quot;Q47746&quot;</td><td>&quot;Evaristus&quot;</td><td>&quot;Evaristus&quot;</td><td>&quot;https://en.wikipedia.org/wiki/…</td><td>&quot;svatý&quot;</td></tr><tr><td>&hellip;</td><td>&hellip;</td><td>&hellip;</td><td>&hellip;</td><td>&hellip;</td></tr><tr><td>&quot;Q16975&quot;</td><td>&quot;Pavel VI.&quot;</td><td>&quot;Paul VI&quot;</td><td>&quot;https://en.wikipedia.org/wiki/…</td><td>&quot;svatý&quot;</td></tr><tr><td>&quot;Q37278&quot;</td><td>&quot;Jan Pavel I.&quot;</td><td>&quot;John Paul I&quot;</td><td>&quot;https://en.wikipedia.org/wiki/…</td><td>&quot;blahoslavený&quot;</td></tr><tr><td>&quot;Q989&quot;</td><td>&quot;Jan Pavel II.&quot;</td><td>&quot;John Paul II&quot;</td><td>&quot;https://en.wikipedia.org/wiki/…</td><td>&quot;svatý&quot;</td></tr><tr><td>&quot;Q2494&quot;</td><td>&quot;Benedikt XVI.&quot;</td><td>&quot;Benedict XVI&quot;</td><td>&quot;https://en.wikipedia.org/wiki/…</td><td>null</td></tr><tr><td>&quot;Q450675&quot;</td><td>&quot;František&quot;</td><td>&quot;Pope Francis&quot;</td><td>&quot;https://en.wikipedia.org/wiki/…</td><td>null</td></tr></tbody></table></div>"
      ],
      "text/plain": [
       "shape: (265, 5)\n",
       "┌─────────┬───────────────┬──────────────┬─────────────────────────────────┬──────────────┐\n",
       "│ id      ┆ jmeno         ┆ jmeno_en     ┆ wiki_en                         ┆ status       │\n",
       "│ ---     ┆ ---           ┆ ---          ┆ ---                             ┆ ---          │\n",
       "│ str     ┆ str           ┆ str          ┆ str                             ┆ str          │\n",
       "╞═════════╪═══════════════╪══════════════╪═════════════════════════════════╪══════════════╡\n",
       "│ Q33923  ┆ svatý Petr    ┆ Saint Peter  ┆ https://en.wikipedia.org/wiki/… ┆ svatý        │\n",
       "│ Q47144  ┆ Linus         ┆ Linus        ┆ https://en.wikipedia.org/wiki/… ┆ svatý        │\n",
       "│ Q80450  ┆ Anaklét       ┆ Anacletus    ┆ https://en.wikipedia.org/wiki/… ┆ svatý        │\n",
       "│ Q42887  ┆ Klement I.    ┆ Clement I    ┆ https://en.wikipedia.org/wiki/… ┆ null         │\n",
       "│ Q47746  ┆ Evaristus     ┆ Evaristus    ┆ https://en.wikipedia.org/wiki/… ┆ svatý        │\n",
       "│ …       ┆ …             ┆ …            ┆ …                               ┆ …            │\n",
       "│ Q16975  ┆ Pavel VI.     ┆ Paul VI      ┆ https://en.wikipedia.org/wiki/… ┆ svatý        │\n",
       "│ Q37278  ┆ Jan Pavel I.  ┆ John Paul I  ┆ https://en.wikipedia.org/wiki/… ┆ blahoslavený │\n",
       "│ Q989    ┆ Jan Pavel II. ┆ John Paul II ┆ https://en.wikipedia.org/wiki/… ┆ svatý        │\n",
       "│ Q2494   ┆ Benedikt XVI. ┆ Benedict XVI ┆ https://en.wikipedia.org/wiki/… ┆ null         │\n",
       "│ Q450675 ┆ František     ┆ Pope Francis ┆ https://en.wikipedia.org/wiki/… ┆ null         │\n",
       "└─────────┴───────────────┴──────────────┴─────────────────────────────────┴──────────────┘"
      ]
     },
     "execution_count": 61,
     "metadata": {},
     "output_type": "execute_result"
    }
   ],
   "source": [
    "df"
   ]
  },
  {
   "cell_type": "code",
   "execution_count": 63,
   "id": "a7ca403d-9a44-482f-b9f0-ce60bbdc028c",
   "metadata": {},
   "outputs": [],
   "source": [
    "df.write_parquet(os.path.join('data','svati_blahoslaveni.parquet'), use_pyarrow=True)\n",
    "df.write_json(os.path.join('data','svati_blahoslaveni.json'))"
   ]
  }
 ],
 "metadata": {
  "kernelspec": {
   "display_name": "Python 3 (ipykernel)",
   "language": "python",
   "name": "python3"
  },
  "language_info": {
   "codemirror_mode": {
    "name": "ipython",
    "version": 3
   },
   "file_extension": ".py",
   "mimetype": "text/x-python",
   "name": "python",
   "nbconvert_exporter": "python",
   "pygments_lexer": "ipython3",
   "version": "3.12.3"
  }
 },
 "nbformat": 4,
 "nbformat_minor": 5
}
