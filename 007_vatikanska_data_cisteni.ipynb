{
 "cells": [
  {
   "cell_type": "code",
   "execution_count": 119,
   "id": "337b4d5a-f2f5-4ccf-99bb-e773f38ba4a6",
   "metadata": {},
   "outputs": [],
   "source": [
    "import polars as pl\n",
    "import altair as alt"
   ]
  },
  {
   "cell_type": "code",
   "execution_count": 120,
   "id": "48b1e1ea-64ce-4e9f-a2e3-f466086a89a7",
   "metadata": {},
   "outputs": [],
   "source": [
    "df = pl.read_json(\"data_raw/papezstvo_raw_vatikan.json\").with_columns(pl.col(\"vatikan_poradi\").cast(int))"
   ]
  },
  {
   "cell_type": "code",
   "execution_count": 121,
   "id": "8278e3e5-290b-4d42-a303-b344a1bbc428",
   "metadata": {},
   "outputs": [
    {
     "data": {
      "text/html": [
       "<div><style>\n",
       ".dataframe > thead > tr,\n",
       ".dataframe > tbody > tr {\n",
       "  text-align: right;\n",
       "  white-space: pre-wrap;\n",
       "}\n",
       "</style>\n",
       "<small>shape: (266, 6)</small><table border=\"1\" class=\"dataframe\"><thead><tr><th>vatikan_poradi</th><th>vatikan_jmeno</th><th>vatikan_pontifikat_zacatek</th><th>vatikan_pontifikat_konec</th><th>vatikan_obcanske_jmeno</th><th>vatikan_narozeni_misto</th></tr><tr><td>i64</td><td>str</td><td>str</td><td>str</td><td>str</td><td>str</td></tr></thead><tbody><tr><td>1</td><td>&quot;Peter&quot;</td><td>&quot;&quot;</td><td>&quot;64 or 67&quot;</td><td>&quot;&quot;</td><td>&quot;Bethsaida of Galilee&quot;</td></tr><tr><td>2</td><td>&quot;Linus&quot;</td><td>&quot;68&quot;</td><td>&quot;79&quot;</td><td>&quot;&quot;</td><td>&quot;Tuscia&quot;</td></tr><tr><td>3</td><td>&quot;Anacletus or Cletus&quot;</td><td>&quot;80&quot;</td><td>&quot;92&quot;</td><td>&quot;&quot;</td><td>&quot;Rome&quot;</td></tr><tr><td>4</td><td>&quot;Clement&quot;</td><td>&quot;92&quot;</td><td>&quot;99&quot;</td><td>&quot;&quot;</td><td>&quot;Rome&quot;</td></tr><tr><td>5</td><td>&quot;Evaristus&quot;</td><td>&quot;99 or 96&quot;</td><td>&quot;108&quot;</td><td>&quot;&quot;</td><td>&quot;Greece&quot;</td></tr><tr><td>&hellip;</td><td>&hellip;</td><td>&hellip;</td><td>&hellip;</td><td>&hellip;</td><td>&hellip;</td></tr><tr><td>262</td><td>&quot;Paul VI&quot;</td><td>&quot;21,30.VI.1963&quot;</td><td>&quot;6.VIII.1978&quot;</td><td>&quot;Giovanni Battista Montini&quot;</td><td>&quot;Concesio (Brescia)&quot;</td></tr><tr><td>263</td><td>&quot;John Paul I&quot;</td><td>&quot;26.VIII, 3.IX.1978&quot;</td><td>&quot;28.IX.1978&quot;</td><td>&quot;Albino Luciani&quot;</td><td>&quot;Forno di Canale (Belluno)&quot;</td></tr><tr><td>264</td><td>&quot;John Paul II&quot;</td><td>&quot;16,22.X.1978&quot;</td><td>&quot;2.IV.2005&quot;</td><td>&quot;Karol Wojtyła&quot;</td><td>&quot;Wadowice (Kraków)&quot;</td></tr><tr><td>265</td><td>&quot;Benedict XVI&quot;</td><td>&quot;19,24.IV.2005&quot;</td><td>&quot;28.II.2013&quot;</td><td>&quot;Joseph Ratzinger&quot;</td><td>&quot;Marktl am Inn (Bavaria)&quot;</td></tr><tr><td>266</td><td>&quot;Francis&quot;</td><td>&quot;13,19.III.2013&quot;</td><td>&quot;21.IV.2025&quot;</td><td>&quot;Jorge Mario Bergoglio&quot;</td><td>&quot;Buenos Aires (Argentina)&quot;</td></tr></tbody></table></div>"
      ],
      "text/plain": [
       "shape: (266, 6)\n",
       "┌────────────────┬─────────────────────┬────────────────────────────┬──────────────────────────┬───────────────────────────┬───────────────────────────┐\n",
       "│ vatikan_poradi ┆ vatikan_jmeno       ┆ vatikan_pontifikat_zacatek ┆ vatikan_pontifikat_konec ┆ vatikan_obcanske_jmeno    ┆ vatikan_narozeni_misto    │\n",
       "│ ---            ┆ ---                 ┆ ---                        ┆ ---                      ┆ ---                       ┆ ---                       │\n",
       "│ i64            ┆ str                 ┆ str                        ┆ str                      ┆ str                       ┆ str                       │\n",
       "╞════════════════╪═════════════════════╪════════════════════════════╪══════════════════════════╪═══════════════════════════╪═══════════════════════════╡\n",
       "│ 1              ┆ Peter               ┆                            ┆ 64 or 67                 ┆                           ┆ Bethsaida of Galilee      │\n",
       "│ 2              ┆ Linus               ┆ 68                         ┆ 79                       ┆                           ┆ Tuscia                    │\n",
       "│ 3              ┆ Anacletus or Cletus ┆ 80                         ┆ 92                       ┆                           ┆ Rome                      │\n",
       "│ 4              ┆ Clement             ┆ 92                         ┆ 99                       ┆                           ┆ Rome                      │\n",
       "│ 5              ┆ Evaristus           ┆ 99 or 96                   ┆ 108                      ┆                           ┆ Greece                    │\n",
       "│ …              ┆ …                   ┆ …                          ┆ …                        ┆ …                         ┆ …                         │\n",
       "│ 262            ┆ Paul VI             ┆ 21,30.VI.1963              ┆ 6.VIII.1978              ┆ Giovanni Battista Montini ┆ Concesio (Brescia)        │\n",
       "│ 263            ┆ John Paul I         ┆ 26.VIII, 3.IX.1978         ┆ 28.IX.1978               ┆ Albino Luciani            ┆ Forno di Canale (Belluno) │\n",
       "│ 264            ┆ John Paul II        ┆ 16,22.X.1978               ┆ 2.IV.2005                ┆ Karol Wojtyła             ┆ Wadowice (Kraków)         │\n",
       "│ 265            ┆ Benedict XVI        ┆ 19,24.IV.2005              ┆ 28.II.2013               ┆ Joseph Ratzinger          ┆ Marktl am Inn (Bavaria)   │\n",
       "│ 266            ┆ Francis             ┆ 13,19.III.2013             ┆ 21.IV.2025               ┆ Jorge Mario Bergoglio     ┆ Buenos Aires (Argentina)  │\n",
       "└────────────────┴─────────────────────┴────────────────────────────┴──────────────────────────┴───────────────────────────┴───────────────────────────┘"
      ]
     },
     "execution_count": 121,
     "metadata": {},
     "output_type": "execute_result"
    }
   ],
   "source": [
    "df"
   ]
  },
  {
   "cell_type": "code",
   "execution_count": 122,
   "id": "cc40a903-9944-4534-bdf6-2e01d534d556",
   "metadata": {},
   "outputs": [],
   "source": [
    "def presnost(retezec):\n",
    "    if \" or \" in retezec:\n",
    "        return 0\n",
    "    elif not \".\" in retezec:\n",
    "        return 1\n",
    "    elif \".\" in retezec:\n",
    "        return 2"
   ]
  },
  {
   "cell_type": "code",
   "execution_count": 123,
   "id": "96cf1ba5-cf33-45f4-a3a9-960848775344",
   "metadata": {},
   "outputs": [
    {
     "name": "stderr",
     "output_type": "stream",
     "text": [
      "C:\\Users\\micha\\AppData\\Local\\Temp\\ipykernel_13008\\2859633925.py:1: MapWithoutReturnDtypeWarning: Calling `map_elements` without specifying `return_dtype` can lead to unpredictable results. Specify `return_dtype` to silence this warning.\n",
      "  df = df.with_columns(\n",
      "C:\\Users\\micha\\AppData\\Local\\Temp\\ipykernel_13008\\2859633925.py:3: MapWithoutReturnDtypeWarning: Calling `map_elements` without specifying `return_dtype` can lead to unpredictable results. Specify `return_dtype` to silence this warning.\n",
      "  ).with_columns(\n"
     ]
    },
    {
     "data": {
      "text/html": [
       "<div><style>\n",
       ".dataframe > thead > tr,\n",
       ".dataframe > tbody > tr {\n",
       "  text-align: right;\n",
       "  white-space: pre-wrap;\n",
       "}\n",
       "</style>\n",
       "<small>shape: (266, 8)</small><table border=\"1\" class=\"dataframe\"><thead><tr><th>vatikan_poradi</th><th>vatikan_jmeno</th><th>vatikan_pontifikat_zacatek</th><th>vatikan_pontifikat_konec</th><th>vatikan_obcanske_jmeno</th><th>vatikan_narozeni_misto</th><th>vatikan_pontifikat_zacatek_presnost</th><th>vatikan_pontifikat_konec_presnost</th></tr><tr><td>i64</td><td>str</td><td>str</td><td>str</td><td>str</td><td>str</td><td>i64</td><td>i64</td></tr></thead><tbody><tr><td>1</td><td>&quot;Peter&quot;</td><td>&quot;&quot;</td><td>&quot;64 or 67&quot;</td><td>&quot;&quot;</td><td>&quot;Bethsaida of Galilee&quot;</td><td>1</td><td>0</td></tr><tr><td>2</td><td>&quot;Linus&quot;</td><td>&quot;68&quot;</td><td>&quot;79&quot;</td><td>&quot;&quot;</td><td>&quot;Tuscia&quot;</td><td>1</td><td>1</td></tr><tr><td>3</td><td>&quot;Anacletus or Cletus&quot;</td><td>&quot;80&quot;</td><td>&quot;92&quot;</td><td>&quot;&quot;</td><td>&quot;Rome&quot;</td><td>1</td><td>1</td></tr><tr><td>4</td><td>&quot;Clement&quot;</td><td>&quot;92&quot;</td><td>&quot;99&quot;</td><td>&quot;&quot;</td><td>&quot;Rome&quot;</td><td>1</td><td>1</td></tr><tr><td>5</td><td>&quot;Evaristus&quot;</td><td>&quot;99 or 96&quot;</td><td>&quot;108&quot;</td><td>&quot;&quot;</td><td>&quot;Greece&quot;</td><td>0</td><td>1</td></tr><tr><td>&hellip;</td><td>&hellip;</td><td>&hellip;</td><td>&hellip;</td><td>&hellip;</td><td>&hellip;</td><td>&hellip;</td><td>&hellip;</td></tr><tr><td>262</td><td>&quot;Paul VI&quot;</td><td>&quot;21,30.VI.1963&quot;</td><td>&quot;6.VIII.1978&quot;</td><td>&quot;Giovanni Battista Montini&quot;</td><td>&quot;Concesio (Brescia)&quot;</td><td>2</td><td>2</td></tr><tr><td>263</td><td>&quot;John Paul I&quot;</td><td>&quot;26.VIII, 3.IX.1978&quot;</td><td>&quot;28.IX.1978&quot;</td><td>&quot;Albino Luciani&quot;</td><td>&quot;Forno di Canale (Belluno)&quot;</td><td>2</td><td>2</td></tr><tr><td>264</td><td>&quot;John Paul II&quot;</td><td>&quot;16,22.X.1978&quot;</td><td>&quot;2.IV.2005&quot;</td><td>&quot;Karol Wojtyła&quot;</td><td>&quot;Wadowice (Kraków)&quot;</td><td>2</td><td>2</td></tr><tr><td>265</td><td>&quot;Benedict XVI&quot;</td><td>&quot;19,24.IV.2005&quot;</td><td>&quot;28.II.2013&quot;</td><td>&quot;Joseph Ratzinger&quot;</td><td>&quot;Marktl am Inn (Bavaria)&quot;</td><td>2</td><td>2</td></tr><tr><td>266</td><td>&quot;Francis&quot;</td><td>&quot;13,19.III.2013&quot;</td><td>&quot;21.IV.2025&quot;</td><td>&quot;Jorge Mario Bergoglio&quot;</td><td>&quot;Buenos Aires (Argentina)&quot;</td><td>2</td><td>2</td></tr></tbody></table></div>"
      ],
      "text/plain": [
       "shape: (266, 8)\n",
       "┌────────────────┬─────────────────────┬────────────────────────────┬──────────────────────────┬───────────────────────────┬───────────────────────────┬─────────────────────────────────┬─────────────────────────────────┐\n",
       "│ vatikan_poradi ┆ vatikan_jmeno       ┆ vatikan_pontifikat_zacatek ┆ vatikan_pontifikat_konec ┆ vatikan_obcanske_jmeno    ┆ vatikan_narozeni_misto    ┆ vatikan_pontifikat_zacatek_pre… ┆ vatikan_pontifikat_konec_presn… │\n",
       "│ ---            ┆ ---                 ┆ ---                        ┆ ---                      ┆ ---                       ┆ ---                       ┆ ---                             ┆ ---                             │\n",
       "│ i64            ┆ str                 ┆ str                        ┆ str                      ┆ str                       ┆ str                       ┆ i64                             ┆ i64                             │\n",
       "╞════════════════╪═════════════════════╪════════════════════════════╪══════════════════════════╪═══════════════════════════╪═══════════════════════════╪═════════════════════════════════╪═════════════════════════════════╡\n",
       "│ 1              ┆ Peter               ┆                            ┆ 64 or 67                 ┆                           ┆ Bethsaida of Galilee      ┆ 1                               ┆ 0                               │\n",
       "│ 2              ┆ Linus               ┆ 68                         ┆ 79                       ┆                           ┆ Tuscia                    ┆ 1                               ┆ 1                               │\n",
       "│ 3              ┆ Anacletus or Cletus ┆ 80                         ┆ 92                       ┆                           ┆ Rome                      ┆ 1                               ┆ 1                               │\n",
       "│ 4              ┆ Clement             ┆ 92                         ┆ 99                       ┆                           ┆ Rome                      ┆ 1                               ┆ 1                               │\n",
       "│ 5              ┆ Evaristus           ┆ 99 or 96                   ┆ 108                      ┆                           ┆ Greece                    ┆ 0                               ┆ 1                               │\n",
       "│ …              ┆ …                   ┆ …                          ┆ …                        ┆ …                         ┆ …                         ┆ …                               ┆ …                               │\n",
       "│ 262            ┆ Paul VI             ┆ 21,30.VI.1963              ┆ 6.VIII.1978              ┆ Giovanni Battista Montini ┆ Concesio (Brescia)        ┆ 2                               ┆ 2                               │\n",
       "│ 263            ┆ John Paul I         ┆ 26.VIII, 3.IX.1978         ┆ 28.IX.1978               ┆ Albino Luciani            ┆ Forno di Canale (Belluno) ┆ 2                               ┆ 2                               │\n",
       "│ 264            ┆ John Paul II        ┆ 16,22.X.1978               ┆ 2.IV.2005                ┆ Karol Wojtyła             ┆ Wadowice (Kraków)         ┆ 2                               ┆ 2                               │\n",
       "│ 265            ┆ Benedict XVI        ┆ 19,24.IV.2005              ┆ 28.II.2013               ┆ Joseph Ratzinger          ┆ Marktl am Inn (Bavaria)   ┆ 2                               ┆ 2                               │\n",
       "│ 266            ┆ Francis             ┆ 13,19.III.2013             ┆ 21.IV.2025               ┆ Jorge Mario Bergoglio     ┆ Buenos Aires (Argentina)  ┆ 2                               ┆ 2                               │\n",
       "└────────────────┴─────────────────────┴────────────────────────────┴──────────────────────────┴───────────────────────────┴───────────────────────────┴─────────────────────────────────┴─────────────────────────────────┘"
      ]
     },
     "execution_count": 123,
     "metadata": {},
     "output_type": "execute_result"
    }
   ],
   "source": [
    "df = df.with_columns(\n",
    "    pl.col(\"vatikan_pontifikat_zacatek\").map_elements(presnost).alias(\"vatikan_pontifikat_zacatek_presnost\")\n",
    ").with_columns(\n",
    "    pl.col(\"vatikan_pontifikat_konec\").map_elements(presnost).alias(\"vatikan_pontifikat_konec_presnost\")\n",
    ")\n",
    "\n",
    "df"
   ]
  },
  {
   "cell_type": "code",
   "execution_count": 124,
   "id": "77fff225-c5a2-4a8a-a3a9-4bb8cc713113",
   "metadata": {},
   "outputs": [],
   "source": [
    "def ciste_datum(datum):\n",
    "\n",
    "    # mega hnusné, spěchám\n",
    "    \n",
    "    rimske = ['I','II','III','IV','V','VI','VII','VIII','IX','X','XI','XII']\n",
    "    rimske = [f'.{x}.' for x in rimske]\n",
    "    rimske = dict(enumerate(rimske))\n",
    "    rimske_ciste = {}\n",
    "    for arabske, rimske in rimske.items():\n",
    "        rimske_ciste[rimske] = f'.{arabske}.'\n",
    "    if \",\" in datum:\n",
    "        datum = datum.split(\",\")[1].strip()\n",
    "    if \" or \" in datum:\n",
    "        datum = datum.split(\" or \")[1].strip()\n",
    "    for rimske, arabske in rimske_ciste.items():\n",
    "        datum = datum.replace(rimske, arabske)\n",
    "\n",
    "    try:\n",
    "        if '.' not in datum:\n",
    "            datum = f'1.1.{datum}'\n",
    "    except:\n",
    "        return None\n",
    "    \n",
    "    return datum"
   ]
  },
  {
   "cell_type": "code",
   "execution_count": 125,
   "id": "18b886e4-2ded-4adf-ab51-2a60ad497482",
   "metadata": {},
   "outputs": [
    {
     "data": {
      "text/plain": [
       "'19.2.2013'"
      ]
     },
     "execution_count": 125,
     "metadata": {},
     "output_type": "execute_result"
    }
   ],
   "source": [
    "ciste_datum(\"13,19.III.2013\")"
   ]
  },
  {
   "cell_type": "code",
   "execution_count": 126,
   "id": "ef3e133b-f0f1-4a87-8159-7e430e572247",
   "metadata": {},
   "outputs": [
    {
     "data": {
      "text/plain": [
       "'1.1.96'"
      ]
     },
     "execution_count": 126,
     "metadata": {},
     "output_type": "execute_result"
    }
   ],
   "source": [
    "ciste_datum(\"99 or 96\"\t)"
   ]
  },
  {
   "cell_type": "code",
   "execution_count": 127,
   "id": "227dcb49-fb68-452c-ada4-12b3728c3603",
   "metadata": {},
   "outputs": [
    {
     "name": "stderr",
     "output_type": "stream",
     "text": [
      "sys:1: MapWithoutReturnDtypeWarning: Calling `map_elements` without specifying `return_dtype` can lead to unpredictable results. Specify `return_dtype` to silence this warning.\n",
      "sys:1: MapWithoutReturnDtypeWarning: Calling `map_elements` without specifying `return_dtype` can lead to unpredictable results. Specify `return_dtype` to silence this warning.\n"
     ]
    },
    {
     "data": {
      "text/html": [
       "<div><style>\n",
       ".dataframe > thead > tr,\n",
       ".dataframe > tbody > tr {\n",
       "  text-align: right;\n",
       "  white-space: pre-wrap;\n",
       "}\n",
       "</style>\n",
       "<small>shape: (266, 8)</small><table border=\"1\" class=\"dataframe\"><thead><tr><th>vatikan_poradi</th><th>vatikan_jmeno</th><th>vatikan_pontifikat_zacatek</th><th>vatikan_pontifikat_konec</th><th>vatikan_obcanske_jmeno</th><th>vatikan_narozeni_misto</th><th>vatikan_pontifikat_zacatek_presnost</th><th>vatikan_pontifikat_konec_presnost</th></tr><tr><td>i64</td><td>str</td><td>date</td><td>date</td><td>str</td><td>str</td><td>i64</td><td>i64</td></tr></thead><tbody><tr><td>1</td><td>&quot;Peter&quot;</td><td>null</td><td>0067-01-01</td><td>&quot;&quot;</td><td>&quot;Bethsaida of Galilee&quot;</td><td>1</td><td>0</td></tr><tr><td>2</td><td>&quot;Linus&quot;</td><td>0068-01-01</td><td>0079-01-01</td><td>&quot;&quot;</td><td>&quot;Tuscia&quot;</td><td>1</td><td>1</td></tr><tr><td>3</td><td>&quot;Anacletus or Cletus&quot;</td><td>0080-01-01</td><td>0092-01-01</td><td>&quot;&quot;</td><td>&quot;Rome&quot;</td><td>1</td><td>1</td></tr><tr><td>4</td><td>&quot;Clement&quot;</td><td>0092-01-01</td><td>0099-01-01</td><td>&quot;&quot;</td><td>&quot;Rome&quot;</td><td>1</td><td>1</td></tr><tr><td>5</td><td>&quot;Evaristus&quot;</td><td>0096-01-01</td><td>0108-01-01</td><td>&quot;&quot;</td><td>&quot;Greece&quot;</td><td>0</td><td>1</td></tr><tr><td>&hellip;</td><td>&hellip;</td><td>&hellip;</td><td>&hellip;</td><td>&hellip;</td><td>&hellip;</td><td>&hellip;</td><td>&hellip;</td></tr><tr><td>262</td><td>&quot;Paul VI&quot;</td><td>1963-05-30</td><td>1978-07-06</td><td>&quot;Giovanni Battista Montini&quot;</td><td>&quot;Concesio (Brescia)&quot;</td><td>2</td><td>2</td></tr><tr><td>263</td><td>&quot;John Paul I&quot;</td><td>1978-08-03</td><td>1978-08-28</td><td>&quot;Albino Luciani&quot;</td><td>&quot;Forno di Canale (Belluno)&quot;</td><td>2</td><td>2</td></tr><tr><td>264</td><td>&quot;John Paul II&quot;</td><td>1978-09-22</td><td>2005-03-02</td><td>&quot;Karol Wojtyła&quot;</td><td>&quot;Wadowice (Kraków)&quot;</td><td>2</td><td>2</td></tr><tr><td>265</td><td>&quot;Benedict XVI&quot;</td><td>2005-03-24</td><td>2013-01-28</td><td>&quot;Joseph Ratzinger&quot;</td><td>&quot;Marktl am Inn (Bavaria)&quot;</td><td>2</td><td>2</td></tr><tr><td>266</td><td>&quot;Francis&quot;</td><td>2013-02-19</td><td>2025-03-21</td><td>&quot;Jorge Mario Bergoglio&quot;</td><td>&quot;Buenos Aires (Argentina)&quot;</td><td>2</td><td>2</td></tr></tbody></table></div>"
      ],
      "text/plain": [
       "shape: (266, 8)\n",
       "┌────────────────┬─────────────────────┬────────────────────────────┬──────────────────────────┬───────────────────────────┬───────────────────────────┬─────────────────────────────────┬─────────────────────────────────┐\n",
       "│ vatikan_poradi ┆ vatikan_jmeno       ┆ vatikan_pontifikat_zacatek ┆ vatikan_pontifikat_konec ┆ vatikan_obcanske_jmeno    ┆ vatikan_narozeni_misto    ┆ vatikan_pontifikat_zacatek_pre… ┆ vatikan_pontifikat_konec_presn… │\n",
       "│ ---            ┆ ---                 ┆ ---                        ┆ ---                      ┆ ---                       ┆ ---                       ┆ ---                             ┆ ---                             │\n",
       "│ i64            ┆ str                 ┆ date                       ┆ date                     ┆ str                       ┆ str                       ┆ i64                             ┆ i64                             │\n",
       "╞════════════════╪═════════════════════╪════════════════════════════╪══════════════════════════╪═══════════════════════════╪═══════════════════════════╪═════════════════════════════════╪═════════════════════════════════╡\n",
       "│ 1              ┆ Peter               ┆ null                       ┆ 0067-01-01               ┆                           ┆ Bethsaida of Galilee      ┆ 1                               ┆ 0                               │\n",
       "│ 2              ┆ Linus               ┆ 0068-01-01                 ┆ 0079-01-01               ┆                           ┆ Tuscia                    ┆ 1                               ┆ 1                               │\n",
       "│ 3              ┆ Anacletus or Cletus ┆ 0080-01-01                 ┆ 0092-01-01               ┆                           ┆ Rome                      ┆ 1                               ┆ 1                               │\n",
       "│ 4              ┆ Clement             ┆ 0092-01-01                 ┆ 0099-01-01               ┆                           ┆ Rome                      ┆ 1                               ┆ 1                               │\n",
       "│ 5              ┆ Evaristus           ┆ 0096-01-01                 ┆ 0108-01-01               ┆                           ┆ Greece                    ┆ 0                               ┆ 1                               │\n",
       "│ …              ┆ …                   ┆ …                          ┆ …                        ┆ …                         ┆ …                         ┆ …                               ┆ …                               │\n",
       "│ 262            ┆ Paul VI             ┆ 1963-05-30                 ┆ 1978-07-06               ┆ Giovanni Battista Montini ┆ Concesio (Brescia)        ┆ 2                               ┆ 2                               │\n",
       "│ 263            ┆ John Paul I         ┆ 1978-08-03                 ┆ 1978-08-28               ┆ Albino Luciani            ┆ Forno di Canale (Belluno) ┆ 2                               ┆ 2                               │\n",
       "│ 264            ┆ John Paul II        ┆ 1978-09-22                 ┆ 2005-03-02               ┆ Karol Wojtyła             ┆ Wadowice (Kraków)         ┆ 2                               ┆ 2                               │\n",
       "│ 265            ┆ Benedict XVI        ┆ 2005-03-24                 ┆ 2013-01-28               ┆ Joseph Ratzinger          ┆ Marktl am Inn (Bavaria)   ┆ 2                               ┆ 2                               │\n",
       "│ 266            ┆ Francis             ┆ 2013-02-19                 ┆ 2025-03-21               ┆ Jorge Mario Bergoglio     ┆ Buenos Aires (Argentina)  ┆ 2                               ┆ 2                               │\n",
       "└────────────────┴─────────────────────┴────────────────────────────┴──────────────────────────┴───────────────────────────┴───────────────────────────┴─────────────────────────────────┴─────────────────────────────────┘"
      ]
     },
     "execution_count": 127,
     "metadata": {},
     "output_type": "execute_result"
    }
   ],
   "source": [
    "df = df.with_columns(\n",
    "    pl.col('vatikan_pontifikat_zacatek').map_elements(ciste_datum).str.to_date(format=\"%d.%m.%Y\",strict=False)\n",
    ").with_columns(\n",
    "    pl.col('vatikan_pontifikat_konec').map_elements(ciste_datum).str.to_date(format=\"%d.%m.%Y\",strict=False)\n",
    ")\n",
    "\n",
    "df"
   ]
  },
  {
   "cell_type": "code",
   "execution_count": 143,
   "id": "be8591bd-0954-4650-8ca2-efa54eedd7d9",
   "metadata": {},
   "outputs": [],
   "source": [
    "df.write_json(\"data_raw/papezstvo_raw_vatikan.json\")"
   ]
  }
 ],
 "metadata": {
  "kernelspec": {
   "display_name": "Python 3 (ipykernel)",
   "language": "python",
   "name": "python3"
  },
  "language_info": {
   "codemirror_mode": {
    "name": "ipython",
    "version": 3
   },
   "file_extension": ".py",
   "mimetype": "text/x-python",
   "name": "python",
   "nbconvert_exporter": "python",
   "pygments_lexer": "ipython3",
   "version": "3.12.3"
  }
 },
 "nbformat": 4,
 "nbformat_minor": 5
}
