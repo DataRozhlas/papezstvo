{
 "cells": [
  {
   "cell_type": "code",
   "execution_count": 1,
   "id": "337b4d5a-f2f5-4ccf-99bb-e773f38ba4a6",
   "metadata": {},
   "outputs": [],
   "source": [
    "import polars as pl\n",
    "import altair as alt"
   ]
  },
  {
   "cell_type": "code",
   "execution_count": 2,
   "id": "48b1e1ea-64ce-4e9f-a2e3-f466086a89a7",
   "metadata": {},
   "outputs": [],
   "source": [
    "df = pl.read_json(\"data_raw/papezstvo_raw_vatikan.json\").with_columns(pl.col(\"vatikan_poradi\").cast(int))"
   ]
  },
  {
   "cell_type": "code",
   "execution_count": 3,
   "id": "8278e3e5-290b-4d42-a303-b344a1bbc428",
   "metadata": {},
   "outputs": [
    {
     "data": {
      "text/html": [
       "<div><style>\n",
       ".dataframe > thead > tr,\n",
       ".dataframe > tbody > tr {\n",
       "  text-align: right;\n",
       "  white-space: pre-wrap;\n",
       "}\n",
       "</style>\n",
       "<small>shape: (267, 6)</small><table border=\"1\" class=\"dataframe\"><thead><tr><th>vatikan_poradi</th><th>vatikan_jmeno</th><th>vatikan_pontifikat_zacatek</th><th>vatikan_pontifikat_konec</th><th>vatikan_obcanske_jmeno</th><th>vatikan_narozeni_misto</th></tr><tr><td>i64</td><td>str</td><td>str</td><td>str</td><td>str</td><td>str</td></tr></thead><tbody><tr><td>1</td><td>&quot;Peter&quot;</td><td>&quot;&quot;</td><td>&quot;64 or 67&quot;</td><td>&quot;&quot;</td><td>&quot;Bethsaida of Galilee&quot;</td></tr><tr><td>2</td><td>&quot;Linus&quot;</td><td>&quot;68&quot;</td><td>&quot;79&quot;</td><td>&quot;&quot;</td><td>&quot;Tuscia&quot;</td></tr><tr><td>3</td><td>&quot;Anacletus or Cletus&quot;</td><td>&quot;80&quot;</td><td>&quot;92&quot;</td><td>&quot;&quot;</td><td>&quot;Rome&quot;</td></tr><tr><td>4</td><td>&quot;Clement&quot;</td><td>&quot;92&quot;</td><td>&quot;99&quot;</td><td>&quot;&quot;</td><td>&quot;Rome&quot;</td></tr><tr><td>5</td><td>&quot;Evaristus&quot;</td><td>&quot;99 or 96&quot;</td><td>&quot;108&quot;</td><td>&quot;&quot;</td><td>&quot;Greece&quot;</td></tr><tr><td>&hellip;</td><td>&hellip;</td><td>&hellip;</td><td>&hellip;</td><td>&hellip;</td><td>&hellip;</td></tr><tr><td>263</td><td>&quot;John Paul I&quot;</td><td>&quot;26.VIII, 3.IX.1978&quot;</td><td>&quot;28.IX.1978&quot;</td><td>&quot;Albino Luciani&quot;</td><td>&quot;Forno di Canale (Belluno)&quot;</td></tr><tr><td>264</td><td>&quot;John Paul II&quot;</td><td>&quot;16,22.X.1978&quot;</td><td>&quot;2.IV.2005&quot;</td><td>&quot;Karol Wojtyła&quot;</td><td>&quot;Wadowice (Kraków)&quot;</td></tr><tr><td>265</td><td>&quot;Benedict XVI&quot;</td><td>&quot;19,24.IV.2005&quot;</td><td>&quot;28.II.2013&quot;</td><td>&quot;Joseph Ratzinger&quot;</td><td>&quot;Marktl am Inn (Bavaria)&quot;</td></tr><tr><td>266</td><td>&quot;Francis&quot;</td><td>&quot;13,19.III.2013&quot;</td><td>&quot;21.IV.2025&quot;</td><td>&quot;Jorge Mario Bergoglio&quot;</td><td>&quot;Buenos Aires (Argentina)&quot;</td></tr><tr><td>267</td><td>&quot;Leo XIV&quot;</td><td>&quot;8,18.V.2025&quot;</td><td>&quot;&quot;</td><td>&quot;Robert Francis Prevost&quot;</td><td>&quot;Chicago&quot;</td></tr></tbody></table></div>"
      ],
      "text/plain": [
       "shape: (267, 6)\n",
       "┌────────────────┬─────────────────────┬────────────────────────────┬──────────────────────────┬────────────────────────┬───────────────────────────┐\n",
       "│ vatikan_poradi ┆ vatikan_jmeno       ┆ vatikan_pontifikat_zacatek ┆ vatikan_pontifikat_konec ┆ vatikan_obcanske_jmeno ┆ vatikan_narozeni_misto    │\n",
       "│ ---            ┆ ---                 ┆ ---                        ┆ ---                      ┆ ---                    ┆ ---                       │\n",
       "│ i64            ┆ str                 ┆ str                        ┆ str                      ┆ str                    ┆ str                       │\n",
       "╞════════════════╪═════════════════════╪════════════════════════════╪══════════════════════════╪════════════════════════╪═══════════════════════════╡\n",
       "│ 1              ┆ Peter               ┆                            ┆ 64 or 67                 ┆                        ┆ Bethsaida of Galilee      │\n",
       "│ 2              ┆ Linus               ┆ 68                         ┆ 79                       ┆                        ┆ Tuscia                    │\n",
       "│ 3              ┆ Anacletus or Cletus ┆ 80                         ┆ 92                       ┆                        ┆ Rome                      │\n",
       "│ 4              ┆ Clement             ┆ 92                         ┆ 99                       ┆                        ┆ Rome                      │\n",
       "│ 5              ┆ Evaristus           ┆ 99 or 96                   ┆ 108                      ┆                        ┆ Greece                    │\n",
       "│ …              ┆ …                   ┆ …                          ┆ …                        ┆ …                      ┆ …                         │\n",
       "│ 263            ┆ John Paul I         ┆ 26.VIII, 3.IX.1978         ┆ 28.IX.1978               ┆ Albino Luciani         ┆ Forno di Canale (Belluno) │\n",
       "│ 264            ┆ John Paul II        ┆ 16,22.X.1978               ┆ 2.IV.2005                ┆ Karol Wojtyła          ┆ Wadowice (Kraków)         │\n",
       "│ 265            ┆ Benedict XVI        ┆ 19,24.IV.2005              ┆ 28.II.2013               ┆ Joseph Ratzinger       ┆ Marktl am Inn (Bavaria)   │\n",
       "│ 266            ┆ Francis             ┆ 13,19.III.2013             ┆ 21.IV.2025               ┆ Jorge Mario Bergoglio  ┆ Buenos Aires (Argentina)  │\n",
       "│ 267            ┆ Leo XIV             ┆ 8,18.V.2025                ┆                          ┆ Robert Francis Prevost ┆ Chicago                   │\n",
       "└────────────────┴─────────────────────┴────────────────────────────┴──────────────────────────┴────────────────────────┴───────────────────────────┘"
      ]
     },
     "execution_count": 3,
     "metadata": {},
     "output_type": "execute_result"
    }
   ],
   "source": [
    "df"
   ]
  },
  {
   "cell_type": "code",
   "execution_count": 4,
   "id": "cc40a903-9944-4534-bdf6-2e01d534d556",
   "metadata": {},
   "outputs": [],
   "source": [
    "def presnost(retezec):\n",
    "    if \" or \" in retezec:\n",
    "        if \".\" not in retezec:\n",
    "            return 0\n",
    "        else:\n",
    "            return 1\n",
    "    elif not \".\" in retezec:\n",
    "        return 1\n",
    "    elif \"...\" in retezec:\n",
    "        return 1\n",
    "    elif \".\" in retezec:\n",
    "        return 2"
   ]
  },
  {
   "cell_type": "code",
   "execution_count": 5,
   "id": "19b920af-927d-4774-8504-3dee49935f72",
   "metadata": {},
   "outputs": [
    {
     "name": "stdout",
     "output_type": "stream",
     "text": [
      "1\n",
      "1\n",
      "1\n"
     ]
    }
   ],
   "source": [
    "print(presnost(\"...III.931\"))\n",
    "print(presnost(\"30.X,...XI.942\"))\n",
    "print(presnost(\"...XII.972, 19.I.973\"))"
   ]
  },
  {
   "cell_type": "code",
   "execution_count": 6,
   "id": "96cf1ba5-cf33-45f4-a3a9-960848775344",
   "metadata": {},
   "outputs": [
    {
     "name": "stderr",
     "output_type": "stream",
     "text": [
      "C:\\Users\\micha\\AppData\\Local\\Temp\\ipykernel_28332\\2859633925.py:1: MapWithoutReturnDtypeWarning: Calling `map_elements` without specifying `return_dtype` can lead to unpredictable results. Specify `return_dtype` to silence this warning.\n",
      "  df = df.with_columns(\n",
      "C:\\Users\\micha\\AppData\\Local\\Temp\\ipykernel_28332\\2859633925.py:3: MapWithoutReturnDtypeWarning: Calling `map_elements` without specifying `return_dtype` can lead to unpredictable results. Specify `return_dtype` to silence this warning.\n",
      "  ).with_columns(\n"
     ]
    },
    {
     "data": {
      "text/html": [
       "<div><style>\n",
       ".dataframe > thead > tr,\n",
       ".dataframe > tbody > tr {\n",
       "  text-align: right;\n",
       "  white-space: pre-wrap;\n",
       "}\n",
       "</style>\n",
       "<small>shape: (267, 8)</small><table border=\"1\" class=\"dataframe\"><thead><tr><th>vatikan_poradi</th><th>vatikan_jmeno</th><th>vatikan_pontifikat_zacatek</th><th>vatikan_pontifikat_konec</th><th>vatikan_obcanske_jmeno</th><th>vatikan_narozeni_misto</th><th>vatikan_pontifikat_zacatek_presnost</th><th>vatikan_pontifikat_konec_presnost</th></tr><tr><td>i64</td><td>str</td><td>str</td><td>str</td><td>str</td><td>str</td><td>i64</td><td>i64</td></tr></thead><tbody><tr><td>1</td><td>&quot;Peter&quot;</td><td>&quot;&quot;</td><td>&quot;64 or 67&quot;</td><td>&quot;&quot;</td><td>&quot;Bethsaida of Galilee&quot;</td><td>1</td><td>0</td></tr><tr><td>2</td><td>&quot;Linus&quot;</td><td>&quot;68&quot;</td><td>&quot;79&quot;</td><td>&quot;&quot;</td><td>&quot;Tuscia&quot;</td><td>1</td><td>1</td></tr><tr><td>3</td><td>&quot;Anacletus or Cletus&quot;</td><td>&quot;80&quot;</td><td>&quot;92&quot;</td><td>&quot;&quot;</td><td>&quot;Rome&quot;</td><td>1</td><td>1</td></tr><tr><td>4</td><td>&quot;Clement&quot;</td><td>&quot;92&quot;</td><td>&quot;99&quot;</td><td>&quot;&quot;</td><td>&quot;Rome&quot;</td><td>1</td><td>1</td></tr><tr><td>5</td><td>&quot;Evaristus&quot;</td><td>&quot;99 or 96&quot;</td><td>&quot;108&quot;</td><td>&quot;&quot;</td><td>&quot;Greece&quot;</td><td>0</td><td>1</td></tr><tr><td>&hellip;</td><td>&hellip;</td><td>&hellip;</td><td>&hellip;</td><td>&hellip;</td><td>&hellip;</td><td>&hellip;</td><td>&hellip;</td></tr><tr><td>263</td><td>&quot;John Paul I&quot;</td><td>&quot;26.VIII, 3.IX.1978&quot;</td><td>&quot;28.IX.1978&quot;</td><td>&quot;Albino Luciani&quot;</td><td>&quot;Forno di Canale (Belluno)&quot;</td><td>2</td><td>2</td></tr><tr><td>264</td><td>&quot;John Paul II&quot;</td><td>&quot;16,22.X.1978&quot;</td><td>&quot;2.IV.2005&quot;</td><td>&quot;Karol Wojtyła&quot;</td><td>&quot;Wadowice (Kraków)&quot;</td><td>2</td><td>2</td></tr><tr><td>265</td><td>&quot;Benedict XVI&quot;</td><td>&quot;19,24.IV.2005&quot;</td><td>&quot;28.II.2013&quot;</td><td>&quot;Joseph Ratzinger&quot;</td><td>&quot;Marktl am Inn (Bavaria)&quot;</td><td>2</td><td>2</td></tr><tr><td>266</td><td>&quot;Francis&quot;</td><td>&quot;13,19.III.2013&quot;</td><td>&quot;21.IV.2025&quot;</td><td>&quot;Jorge Mario Bergoglio&quot;</td><td>&quot;Buenos Aires (Argentina)&quot;</td><td>2</td><td>2</td></tr><tr><td>267</td><td>&quot;Leo XIV&quot;</td><td>&quot;8,18.V.2025&quot;</td><td>&quot;&quot;</td><td>&quot;Robert Francis Prevost&quot;</td><td>&quot;Chicago&quot;</td><td>2</td><td>1</td></tr></tbody></table></div>"
      ],
      "text/plain": [
       "shape: (267, 8)\n",
       "┌────────────────┬─────────────────────┬────────────────────────┬────────────────────────┬────────────────────────┬────────────────────────┬───────────────────────┬───────────────────────┐\n",
       "│ vatikan_poradi ┆ vatikan_jmeno       ┆ vatikan_pontifikat_zac ┆ vatikan_pontifikat_kon ┆ vatikan_obcanske_jmeno ┆ vatikan_narozeni_misto ┆ vatikan_pontifikat_za ┆ vatikan_pontifikat_ko │\n",
       "│ ---            ┆ ---                 ┆ atek                   ┆ ec                     ┆ ---                    ┆ ---                    ┆ catek_pre…            ┆ nec_presn…            │\n",
       "│ i64            ┆ str                 ┆ ---                    ┆ ---                    ┆ str                    ┆ str                    ┆ ---                   ┆ ---                   │\n",
       "│                ┆                     ┆ str                    ┆ str                    ┆                        ┆                        ┆ i64                   ┆ i64                   │\n",
       "╞════════════════╪═════════════════════╪════════════════════════╪════════════════════════╪════════════════════════╪════════════════════════╪═══════════════════════╪═══════════════════════╡\n",
       "│ 1              ┆ Peter               ┆                        ┆ 64 or 67               ┆                        ┆ Bethsaida of Galilee   ┆ 1                     ┆ 0                     │\n",
       "│ 2              ┆ Linus               ┆ 68                     ┆ 79                     ┆                        ┆ Tuscia                 ┆ 1                     ┆ 1                     │\n",
       "│ 3              ┆ Anacletus or Cletus ┆ 80                     ┆ 92                     ┆                        ┆ Rome                   ┆ 1                     ┆ 1                     │\n",
       "│ 4              ┆ Clement             ┆ 92                     ┆ 99                     ┆                        ┆ Rome                   ┆ 1                     ┆ 1                     │\n",
       "│ 5              ┆ Evaristus           ┆ 99 or 96               ┆ 108                    ┆                        ┆ Greece                 ┆ 0                     ┆ 1                     │\n",
       "│ …              ┆ …                   ┆ …                      ┆ …                      ┆ …                      ┆ …                      ┆ …                     ┆ …                     │\n",
       "│ 263            ┆ John Paul I         ┆ 26.VIII, 3.IX.1978     ┆ 28.IX.1978             ┆ Albino Luciani         ┆ Forno di Canale        ┆ 2                     ┆ 2                     │\n",
       "│                ┆                     ┆                        ┆                        ┆                        ┆ (Belluno)              ┆                       ┆                       │\n",
       "│ 264            ┆ John Paul II        ┆ 16,22.X.1978           ┆ 2.IV.2005              ┆ Karol Wojtyła          ┆ Wadowice (Kraków)      ┆ 2                     ┆ 2                     │\n",
       "│ 265            ┆ Benedict XVI        ┆ 19,24.IV.2005          ┆ 28.II.2013             ┆ Joseph Ratzinger       ┆ Marktl am Inn          ┆ 2                     ┆ 2                     │\n",
       "│                ┆                     ┆                        ┆                        ┆                        ┆ (Bavaria)              ┆                       ┆                       │\n",
       "│ 266            ┆ Francis             ┆ 13,19.III.2013         ┆ 21.IV.2025             ┆ Jorge Mario Bergoglio  ┆ Buenos Aires           ┆ 2                     ┆ 2                     │\n",
       "│                ┆                     ┆                        ┆                        ┆                        ┆ (Argentina)            ┆                       ┆                       │\n",
       "│ 267            ┆ Leo XIV             ┆ 8,18.V.2025            ┆                        ┆ Robert Francis Prevost ┆ Chicago                ┆ 2                     ┆ 1                     │\n",
       "└────────────────┴─────────────────────┴────────────────────────┴────────────────────────┴────────────────────────┴────────────────────────┴───────────────────────┴───────────────────────┘"
      ]
     },
     "execution_count": 6,
     "metadata": {},
     "output_type": "execute_result"
    }
   ],
   "source": [
    "df = df.with_columns(\n",
    "    pl.col(\"vatikan_pontifikat_zacatek\").map_elements(presnost).alias(\"vatikan_pontifikat_zacatek_presnost\")\n",
    ").with_columns(\n",
    "    pl.col(\"vatikan_pontifikat_konec\").map_elements(presnost).alias(\"vatikan_pontifikat_konec_presnost\")\n",
    ")\n",
    "\n",
    "df"
   ]
  },
  {
   "cell_type": "code",
   "execution_count": 7,
   "id": "77fff225-c5a2-4a8a-a3a9-4bb8cc713113",
   "metadata": {},
   "outputs": [],
   "source": [
    "def ciste_datum(datum):\n",
    "\n",
    "    # mega hnusné, spěchám\n",
    "    \n",
    "    rimske = ['I','II','III','IV','V','VI','VII','VIII','IX','X','XI','XII']\n",
    "    rimske = [f'.{x}.' for x in rimske]\n",
    "    rimske = dict(enumerate(rimske))\n",
    "    rimske_ciste = {}\n",
    "    for arabske, rimske in rimske.items():\n",
    "        rimske_ciste[rimske] = f'.{arabske}.'\n",
    "    if \",\" in datum:\n",
    "        datum = datum.split(\",\")[1].strip()\n",
    "    if \" or \" in datum:\n",
    "        datum = datum.split(\" or \")[1].strip()\n",
    "    for rimske, arabske in rimske_ciste.items():\n",
    "        datum = datum.replace(rimske, arabske)\n",
    "\n",
    "    try:\n",
    "        if '.' not in datum:\n",
    "            datum = f'1.1.{datum}'\n",
    "    except:\n",
    "        return None\n",
    "    \n",
    "    return datum"
   ]
  },
  {
   "cell_type": "code",
   "execution_count": 8,
   "id": "18b886e4-2ded-4adf-ab51-2a60ad497482",
   "metadata": {},
   "outputs": [
    {
     "data": {
      "text/plain": [
       "'19.2.2013'"
      ]
     },
     "execution_count": 8,
     "metadata": {},
     "output_type": "execute_result"
    }
   ],
   "source": [
    "ciste_datum(\"13,19.III.2013\")"
   ]
  },
  {
   "cell_type": "code",
   "execution_count": 9,
   "id": "ef3e133b-f0f1-4a87-8159-7e430e572247",
   "metadata": {},
   "outputs": [
    {
     "data": {
      "text/plain": [
       "'1.1.96'"
      ]
     },
     "execution_count": 9,
     "metadata": {},
     "output_type": "execute_result"
    }
   ],
   "source": [
    "ciste_datum(\"99 or 96\"\t)"
   ]
  },
  {
   "cell_type": "code",
   "execution_count": 10,
   "id": "a033ffe5-9f0f-4344-8b2b-f93eb2503d6e",
   "metadata": {},
   "outputs": [
    {
     "data": {
      "text/html": [
       "<div><style>\n",
       ".dataframe > thead > tr,\n",
       ".dataframe > tbody > tr {\n",
       "  text-align: right;\n",
       "  white-space: pre-wrap;\n",
       "}\n",
       "</style>\n",
       "<small>shape: (3, 8)</small><table border=\"1\" class=\"dataframe\"><thead><tr><th>vatikan_poradi</th><th>vatikan_jmeno</th><th>vatikan_pontifikat_zacatek</th><th>vatikan_pontifikat_konec</th><th>vatikan_obcanske_jmeno</th><th>vatikan_narozeni_misto</th><th>vatikan_pontifikat_zacatek_presnost</th><th>vatikan_pontifikat_konec_presnost</th></tr><tr><td>i64</td><td>str</td><td>str</td><td>str</td><td>str</td><td>str</td><td>i64</td><td>i64</td></tr></thead><tbody><tr><td>145</td><td>&quot;Benedict IX&quot;</td><td>&quot;...VIII or IX.1032&quot;</td><td>&quot;...IX.1044&quot;</td><td>&quot;Theophylactus of Tusculum&quot;</td><td>&quot;&quot;</td><td>1</td><td>1</td></tr><tr><td>147</td><td>&quot;Benedict IX&quot;</td><td>&quot;10.III.1045&quot;</td><td>&quot;1.V.1045&quot;</td><td>&quot;Theophylactus of Tusculum&quot;</td><td>&quot;&quot;</td><td>2</td><td>2</td></tr><tr><td>150</td><td>&quot;Benedict IX&quot;</td><td>&quot;...X.1047&quot;</td><td>&quot;... VIII.1048&quot;</td><td>&quot;Theophylactus of Tusculum&quot;</td><td>&quot;&quot;</td><td>1</td><td>1</td></tr></tbody></table></div>"
      ],
      "text/plain": [
       "shape: (3, 8)\n",
       "┌────────────────┬───────────────┬─────────────────────────┬─────────────────────────┬─────────────────────────┬────────────────────────┬─────────────────────────┬────────────────────────┐\n",
       "│ vatikan_poradi ┆ vatikan_jmeno ┆ vatikan_pontifikat_zaca ┆ vatikan_pontifikat_kone ┆ vatikan_obcanske_jmeno  ┆ vatikan_narozeni_misto ┆ vatikan_pontifikat_zaca ┆ vatikan_pontifikat_kon │\n",
       "│ ---            ┆ ---           ┆ tek                     ┆ c                       ┆ ---                     ┆ ---                    ┆ tek_pre…                ┆ ec_presn…              │\n",
       "│ i64            ┆ str           ┆ ---                     ┆ ---                     ┆ str                     ┆ str                    ┆ ---                     ┆ ---                    │\n",
       "│                ┆               ┆ str                     ┆ str                     ┆                         ┆                        ┆ i64                     ┆ i64                    │\n",
       "╞════════════════╪═══════════════╪═════════════════════════╪═════════════════════════╪═════════════════════════╪════════════════════════╪═════════════════════════╪════════════════════════╡\n",
       "│ 145            ┆ Benedict IX   ┆ ...VIII or IX.1032      ┆ ...IX.1044              ┆ Theophylactus of        ┆                        ┆ 1                       ┆ 1                      │\n",
       "│                ┆               ┆                         ┆                         ┆ Tusculum                ┆                        ┆                         ┆                        │\n",
       "│ 147            ┆ Benedict IX   ┆ 10.III.1045             ┆ 1.V.1045                ┆ Theophylactus of        ┆                        ┆ 2                       ┆ 2                      │\n",
       "│                ┆               ┆                         ┆                         ┆ Tusculum                ┆                        ┆                         ┆                        │\n",
       "│ 150            ┆ Benedict IX   ┆ ...X.1047               ┆ ... VIII.1048           ┆ Theophylactus of        ┆                        ┆ 1                       ┆ 1                      │\n",
       "│                ┆               ┆                         ┆                         ┆ Tusculum                ┆                        ┆                         ┆                        │\n",
       "└────────────────┴───────────────┴─────────────────────────┴─────────────────────────┴─────────────────────────┴────────────────────────┴─────────────────────────┴────────────────────────┘"
      ]
     },
     "execution_count": 10,
     "metadata": {},
     "output_type": "execute_result"
    }
   ],
   "source": [
    "df.filter(pl.col('vatikan_jmeno') == 'Benedict IX')"
   ]
  },
  {
   "cell_type": "code",
   "execution_count": 11,
   "id": "97ae2f0b-cd8f-4e16-be05-71fba4c3fa0f",
   "metadata": {},
   "outputs": [
    {
     "data": {
      "text/html": [
       "<div><style>\n",
       ".dataframe > thead > tr,\n",
       ".dataframe > tbody > tr {\n",
       "  text-align: right;\n",
       "  white-space: pre-wrap;\n",
       "}\n",
       "</style>\n",
       "<small>shape: (267, 8)</small><table border=\"1\" class=\"dataframe\"><thead><tr><th>vatikan_poradi</th><th>vatikan_jmeno</th><th>vatikan_pontifikat_zacatek</th><th>vatikan_pontifikat_konec</th><th>vatikan_obcanske_jmeno</th><th>vatikan_narozeni_misto</th><th>vatikan_pontifikat_zacatek_presnost</th><th>vatikan_pontifikat_konec_presnost</th></tr><tr><td>i64</td><td>str</td><td>str</td><td>str</td><td>str</td><td>str</td><td>i64</td><td>i64</td></tr></thead><tbody><tr><td>1</td><td>&quot;Peter&quot;</td><td>&quot;&quot;</td><td>&quot;64 or 67&quot;</td><td>&quot;&quot;</td><td>&quot;Bethsaida of Galilee&quot;</td><td>1</td><td>0</td></tr><tr><td>2</td><td>&quot;Linus&quot;</td><td>&quot;68&quot;</td><td>&quot;79&quot;</td><td>&quot;&quot;</td><td>&quot;Tuscia&quot;</td><td>1</td><td>1</td></tr><tr><td>3</td><td>&quot;Anacletus or Cletus&quot;</td><td>&quot;80&quot;</td><td>&quot;92&quot;</td><td>&quot;&quot;</td><td>&quot;Rome&quot;</td><td>1</td><td>1</td></tr><tr><td>4</td><td>&quot;Clement&quot;</td><td>&quot;92&quot;</td><td>&quot;99&quot;</td><td>&quot;&quot;</td><td>&quot;Rome&quot;</td><td>1</td><td>1</td></tr><tr><td>5</td><td>&quot;Evaristus&quot;</td><td>&quot;99 or 96&quot;</td><td>&quot;108&quot;</td><td>&quot;&quot;</td><td>&quot;Greece&quot;</td><td>0</td><td>1</td></tr><tr><td>&hellip;</td><td>&hellip;</td><td>&hellip;</td><td>&hellip;</td><td>&hellip;</td><td>&hellip;</td><td>&hellip;</td><td>&hellip;</td></tr><tr><td>263</td><td>&quot;John Paul I&quot;</td><td>&quot;26.VIII, 3.IX.1978&quot;</td><td>&quot;28.IX.1978&quot;</td><td>&quot;Albino Luciani&quot;</td><td>&quot;Forno di Canale (Belluno)&quot;</td><td>2</td><td>2</td></tr><tr><td>264</td><td>&quot;John Paul II&quot;</td><td>&quot;16,22.X.1978&quot;</td><td>&quot;2.IV.2005&quot;</td><td>&quot;Karol Wojtyła&quot;</td><td>&quot;Wadowice (Kraków)&quot;</td><td>2</td><td>2</td></tr><tr><td>265</td><td>&quot;Benedict XVI&quot;</td><td>&quot;19,24.IV.2005&quot;</td><td>&quot;28.II.2013&quot;</td><td>&quot;Joseph Ratzinger&quot;</td><td>&quot;Marktl am Inn (Bavaria)&quot;</td><td>2</td><td>2</td></tr><tr><td>266</td><td>&quot;Francis&quot;</td><td>&quot;13,19.III.2013&quot;</td><td>&quot;21.IV.2025&quot;</td><td>&quot;Jorge Mario Bergoglio&quot;</td><td>&quot;Buenos Aires (Argentina)&quot;</td><td>2</td><td>2</td></tr><tr><td>267</td><td>&quot;Leo XIV&quot;</td><td>&quot;8,18.V.2025&quot;</td><td>&quot;&quot;</td><td>&quot;Robert Francis Prevost&quot;</td><td>&quot;Chicago&quot;</td><td>2</td><td>1</td></tr></tbody></table></div>"
      ],
      "text/plain": [
       "shape: (267, 8)\n",
       "┌────────────────┬─────────────────────┬────────────────────────┬────────────────────────┬────────────────────────┬────────────────────────┬───────────────────────┬───────────────────────┐\n",
       "│ vatikan_poradi ┆ vatikan_jmeno       ┆ vatikan_pontifikat_zac ┆ vatikan_pontifikat_kon ┆ vatikan_obcanske_jmeno ┆ vatikan_narozeni_misto ┆ vatikan_pontifikat_za ┆ vatikan_pontifikat_ko │\n",
       "│ ---            ┆ ---                 ┆ atek                   ┆ ec                     ┆ ---                    ┆ ---                    ┆ catek_pre…            ┆ nec_presn…            │\n",
       "│ i64            ┆ str                 ┆ ---                    ┆ ---                    ┆ str                    ┆ str                    ┆ ---                   ┆ ---                   │\n",
       "│                ┆                     ┆ str                    ┆ str                    ┆                        ┆                        ┆ i64                   ┆ i64                   │\n",
       "╞════════════════╪═════════════════════╪════════════════════════╪════════════════════════╪════════════════════════╪════════════════════════╪═══════════════════════╪═══════════════════════╡\n",
       "│ 1              ┆ Peter               ┆                        ┆ 64 or 67               ┆                        ┆ Bethsaida of Galilee   ┆ 1                     ┆ 0                     │\n",
       "│ 2              ┆ Linus               ┆ 68                     ┆ 79                     ┆                        ┆ Tuscia                 ┆ 1                     ┆ 1                     │\n",
       "│ 3              ┆ Anacletus or Cletus ┆ 80                     ┆ 92                     ┆                        ┆ Rome                   ┆ 1                     ┆ 1                     │\n",
       "│ 4              ┆ Clement             ┆ 92                     ┆ 99                     ┆                        ┆ Rome                   ┆ 1                     ┆ 1                     │\n",
       "│ 5              ┆ Evaristus           ┆ 99 or 96               ┆ 108                    ┆                        ┆ Greece                 ┆ 0                     ┆ 1                     │\n",
       "│ …              ┆ …                   ┆ …                      ┆ …                      ┆ …                      ┆ …                      ┆ …                     ┆ …                     │\n",
       "│ 263            ┆ John Paul I         ┆ 26.VIII, 3.IX.1978     ┆ 28.IX.1978             ┆ Albino Luciani         ┆ Forno di Canale        ┆ 2                     ┆ 2                     │\n",
       "│                ┆                     ┆                        ┆                        ┆                        ┆ (Belluno)              ┆                       ┆                       │\n",
       "│ 264            ┆ John Paul II        ┆ 16,22.X.1978           ┆ 2.IV.2005              ┆ Karol Wojtyła          ┆ Wadowice (Kraków)      ┆ 2                     ┆ 2                     │\n",
       "│ 265            ┆ Benedict XVI        ┆ 19,24.IV.2005          ┆ 28.II.2013             ┆ Joseph Ratzinger       ┆ Marktl am Inn          ┆ 2                     ┆ 2                     │\n",
       "│                ┆                     ┆                        ┆                        ┆                        ┆ (Bavaria)              ┆                       ┆                       │\n",
       "│ 266            ┆ Francis             ┆ 13,19.III.2013         ┆ 21.IV.2025             ┆ Jorge Mario Bergoglio  ┆ Buenos Aires           ┆ 2                     ┆ 2                     │\n",
       "│                ┆                     ┆                        ┆                        ┆                        ┆ (Argentina)            ┆                       ┆                       │\n",
       "│ 267            ┆ Leo XIV             ┆ 8,18.V.2025            ┆                        ┆ Robert Francis Prevost ┆ Chicago                ┆ 2                     ┆ 1                     │\n",
       "└────────────────┴─────────────────────┴────────────────────────┴────────────────────────┴────────────────────────┴────────────────────────┴───────────────────────┴───────────────────────┘"
      ]
     },
     "execution_count": 11,
     "metadata": {},
     "output_type": "execute_result"
    }
   ],
   "source": [
    "df"
   ]
  },
  {
   "cell_type": "code",
   "execution_count": 12,
   "id": "227dcb49-fb68-452c-ada4-12b3728c3603",
   "metadata": {},
   "outputs": [
    {
     "name": "stderr",
     "output_type": "stream",
     "text": [
      "sys:1: MapWithoutReturnDtypeWarning: Calling `map_elements` without specifying `return_dtype` can lead to unpredictable results. Specify `return_dtype` to silence this warning.\n",
      "sys:1: MapWithoutReturnDtypeWarning: Calling `map_elements` without specifying `return_dtype` can lead to unpredictable results. Specify `return_dtype` to silence this warning.\n"
     ]
    },
    {
     "data": {
      "text/html": [
       "<div><style>\n",
       ".dataframe > thead > tr,\n",
       ".dataframe > tbody > tr {\n",
       "  text-align: right;\n",
       "  white-space: pre-wrap;\n",
       "}\n",
       "</style>\n",
       "<small>shape: (267, 8)</small><table border=\"1\" class=\"dataframe\"><thead><tr><th>vatikan_poradi</th><th>vatikan_jmeno</th><th>vatikan_pontifikat_zacatek</th><th>vatikan_pontifikat_konec</th><th>vatikan_obcanske_jmeno</th><th>vatikan_narozeni_misto</th><th>vatikan_pontifikat_zacatek_presnost</th><th>vatikan_pontifikat_konec_presnost</th></tr><tr><td>i64</td><td>str</td><td>date</td><td>date</td><td>str</td><td>str</td><td>i64</td><td>i64</td></tr></thead><tbody><tr><td>1</td><td>&quot;Peter&quot;</td><td>null</td><td>0067-01-01</td><td>&quot;&quot;</td><td>&quot;Bethsaida of Galilee&quot;</td><td>1</td><td>0</td></tr><tr><td>2</td><td>&quot;Linus&quot;</td><td>0068-01-01</td><td>0079-01-01</td><td>&quot;&quot;</td><td>&quot;Tuscia&quot;</td><td>1</td><td>1</td></tr><tr><td>3</td><td>&quot;Anacletus or Cletus&quot;</td><td>0080-01-01</td><td>0092-01-01</td><td>&quot;&quot;</td><td>&quot;Rome&quot;</td><td>1</td><td>1</td></tr><tr><td>4</td><td>&quot;Clement&quot;</td><td>0092-01-01</td><td>0099-01-01</td><td>&quot;&quot;</td><td>&quot;Rome&quot;</td><td>1</td><td>1</td></tr><tr><td>5</td><td>&quot;Evaristus&quot;</td><td>0096-01-01</td><td>0108-01-01</td><td>&quot;&quot;</td><td>&quot;Greece&quot;</td><td>0</td><td>1</td></tr><tr><td>&hellip;</td><td>&hellip;</td><td>&hellip;</td><td>&hellip;</td><td>&hellip;</td><td>&hellip;</td><td>&hellip;</td><td>&hellip;</td></tr><tr><td>263</td><td>&quot;John Paul I&quot;</td><td>1978-08-03</td><td>1978-08-28</td><td>&quot;Albino Luciani&quot;</td><td>&quot;Forno di Canale (Belluno)&quot;</td><td>2</td><td>2</td></tr><tr><td>264</td><td>&quot;John Paul II&quot;</td><td>1978-09-22</td><td>2005-03-02</td><td>&quot;Karol Wojtyła&quot;</td><td>&quot;Wadowice (Kraków)&quot;</td><td>2</td><td>2</td></tr><tr><td>265</td><td>&quot;Benedict XVI&quot;</td><td>2005-03-24</td><td>2013-01-28</td><td>&quot;Joseph Ratzinger&quot;</td><td>&quot;Marktl am Inn (Bavaria)&quot;</td><td>2</td><td>2</td></tr><tr><td>266</td><td>&quot;Francis&quot;</td><td>2013-02-19</td><td>2025-03-21</td><td>&quot;Jorge Mario Bergoglio&quot;</td><td>&quot;Buenos Aires (Argentina)&quot;</td><td>2</td><td>2</td></tr><tr><td>267</td><td>&quot;Leo XIV&quot;</td><td>2025-04-18</td><td>null</td><td>&quot;Robert Francis Prevost&quot;</td><td>&quot;Chicago&quot;</td><td>2</td><td>1</td></tr></tbody></table></div>"
      ],
      "text/plain": [
       "shape: (267, 8)\n",
       "┌────────────────┬─────────────────────┬────────────────────────┬────────────────────────┬────────────────────────┬────────────────────────┬───────────────────────┬───────────────────────┐\n",
       "│ vatikan_poradi ┆ vatikan_jmeno       ┆ vatikan_pontifikat_zac ┆ vatikan_pontifikat_kon ┆ vatikan_obcanske_jmeno ┆ vatikan_narozeni_misto ┆ vatikan_pontifikat_za ┆ vatikan_pontifikat_ko │\n",
       "│ ---            ┆ ---                 ┆ atek                   ┆ ec                     ┆ ---                    ┆ ---                    ┆ catek_pre…            ┆ nec_presn…            │\n",
       "│ i64            ┆ str                 ┆ ---                    ┆ ---                    ┆ str                    ┆ str                    ┆ ---                   ┆ ---                   │\n",
       "│                ┆                     ┆ date                   ┆ date                   ┆                        ┆                        ┆ i64                   ┆ i64                   │\n",
       "╞════════════════╪═════════════════════╪════════════════════════╪════════════════════════╪════════════════════════╪════════════════════════╪═══════════════════════╪═══════════════════════╡\n",
       "│ 1              ┆ Peter               ┆ null                   ┆ 0067-01-01             ┆                        ┆ Bethsaida of Galilee   ┆ 1                     ┆ 0                     │\n",
       "│ 2              ┆ Linus               ┆ 0068-01-01             ┆ 0079-01-01             ┆                        ┆ Tuscia                 ┆ 1                     ┆ 1                     │\n",
       "│ 3              ┆ Anacletus or Cletus ┆ 0080-01-01             ┆ 0092-01-01             ┆                        ┆ Rome                   ┆ 1                     ┆ 1                     │\n",
       "│ 4              ┆ Clement             ┆ 0092-01-01             ┆ 0099-01-01             ┆                        ┆ Rome                   ┆ 1                     ┆ 1                     │\n",
       "│ 5              ┆ Evaristus           ┆ 0096-01-01             ┆ 0108-01-01             ┆                        ┆ Greece                 ┆ 0                     ┆ 1                     │\n",
       "│ …              ┆ …                   ┆ …                      ┆ …                      ┆ …                      ┆ …                      ┆ …                     ┆ …                     │\n",
       "│ 263            ┆ John Paul I         ┆ 1978-08-03             ┆ 1978-08-28             ┆ Albino Luciani         ┆ Forno di Canale        ┆ 2                     ┆ 2                     │\n",
       "│                ┆                     ┆                        ┆                        ┆                        ┆ (Belluno)              ┆                       ┆                       │\n",
       "│ 264            ┆ John Paul II        ┆ 1978-09-22             ┆ 2005-03-02             ┆ Karol Wojtyła          ┆ Wadowice (Kraków)      ┆ 2                     ┆ 2                     │\n",
       "│ 265            ┆ Benedict XVI        ┆ 2005-03-24             ┆ 2013-01-28             ┆ Joseph Ratzinger       ┆ Marktl am Inn          ┆ 2                     ┆ 2                     │\n",
       "│                ┆                     ┆                        ┆                        ┆                        ┆ (Bavaria)              ┆                       ┆                       │\n",
       "│ 266            ┆ Francis             ┆ 2013-02-19             ┆ 2025-03-21             ┆ Jorge Mario Bergoglio  ┆ Buenos Aires           ┆ 2                     ┆ 2                     │\n",
       "│                ┆                     ┆                        ┆                        ┆                        ┆ (Argentina)            ┆                       ┆                       │\n",
       "│ 267            ┆ Leo XIV             ┆ 2025-04-18             ┆ null                   ┆ Robert Francis Prevost ┆ Chicago                ┆ 2                     ┆ 1                     │\n",
       "└────────────────┴─────────────────────┴────────────────────────┴────────────────────────┴────────────────────────┴────────────────────────┴───────────────────────┴───────────────────────┘"
      ]
     },
     "execution_count": 12,
     "metadata": {},
     "output_type": "execute_result"
    }
   ],
   "source": [
    "df = df.with_columns(\n",
    "    pl.col('vatikan_pontifikat_zacatek').map_elements(ciste_datum).str.to_date(format=\"%d.%m.%Y\",strict=False)\n",
    ").with_columns(\n",
    "    pl.col('vatikan_pontifikat_konec').map_elements(ciste_datum).str.to_date(format=\"%d.%m.%Y\",strict=False)\n",
    ")\n",
    "\n",
    "df"
   ]
  },
  {
   "cell_type": "code",
   "execution_count": 13,
   "id": "1b8b5db7-55b9-4fea-b6fa-8e26d998c0ec",
   "metadata": {},
   "outputs": [
    {
     "data": {
      "text/html": [
       "<div><style>\n",
       ".dataframe > thead > tr,\n",
       ".dataframe > tbody > tr {\n",
       "  text-align: right;\n",
       "  white-space: pre-wrap;\n",
       "}\n",
       "</style>\n",
       "<small>shape: (3, 8)</small><table border=\"1\" class=\"dataframe\"><thead><tr><th>vatikan_poradi</th><th>vatikan_jmeno</th><th>vatikan_pontifikat_zacatek</th><th>vatikan_pontifikat_konec</th><th>vatikan_obcanske_jmeno</th><th>vatikan_narozeni_misto</th><th>vatikan_pontifikat_zacatek_presnost</th><th>vatikan_pontifikat_konec_presnost</th></tr><tr><td>i64</td><td>str</td><td>date</td><td>date</td><td>str</td><td>str</td><td>i64</td><td>i64</td></tr></thead><tbody><tr><td>145</td><td>&quot;Benedict IX&quot;</td><td>null</td><td>null</td><td>&quot;Theophylactus of Tusculum&quot;</td><td>&quot;&quot;</td><td>1</td><td>1</td></tr><tr><td>147</td><td>&quot;Benedict IX&quot;</td><td>1045-02-10</td><td>1045-04-01</td><td>&quot;Theophylactus of Tusculum&quot;</td><td>&quot;&quot;</td><td>2</td><td>2</td></tr><tr><td>150</td><td>&quot;Benedict IX&quot;</td><td>null</td><td>null</td><td>&quot;Theophylactus of Tusculum&quot;</td><td>&quot;&quot;</td><td>1</td><td>1</td></tr></tbody></table></div>"
      ],
      "text/plain": [
       "shape: (3, 8)\n",
       "┌────────────────┬───────────────┬─────────────────────────┬─────────────────────────┬─────────────────────────┬────────────────────────┬─────────────────────────┬────────────────────────┐\n",
       "│ vatikan_poradi ┆ vatikan_jmeno ┆ vatikan_pontifikat_zaca ┆ vatikan_pontifikat_kone ┆ vatikan_obcanske_jmeno  ┆ vatikan_narozeni_misto ┆ vatikan_pontifikat_zaca ┆ vatikan_pontifikat_kon │\n",
       "│ ---            ┆ ---           ┆ tek                     ┆ c                       ┆ ---                     ┆ ---                    ┆ tek_pre…                ┆ ec_presn…              │\n",
       "│ i64            ┆ str           ┆ ---                     ┆ ---                     ┆ str                     ┆ str                    ┆ ---                     ┆ ---                    │\n",
       "│                ┆               ┆ date                    ┆ date                    ┆                         ┆                        ┆ i64                     ┆ i64                    │\n",
       "╞════════════════╪═══════════════╪═════════════════════════╪═════════════════════════╪═════════════════════════╪════════════════════════╪═════════════════════════╪════════════════════════╡\n",
       "│ 145            ┆ Benedict IX   ┆ null                    ┆ null                    ┆ Theophylactus of        ┆                        ┆ 1                       ┆ 1                      │\n",
       "│                ┆               ┆                         ┆                         ┆ Tusculum                ┆                        ┆                         ┆                        │\n",
       "│ 147            ┆ Benedict IX   ┆ 1045-02-10              ┆ 1045-04-01              ┆ Theophylactus of        ┆                        ┆ 2                       ┆ 2                      │\n",
       "│                ┆               ┆                         ┆                         ┆ Tusculum                ┆                        ┆                         ┆                        │\n",
       "│ 150            ┆ Benedict IX   ┆ null                    ┆ null                    ┆ Theophylactus of        ┆                        ┆ 1                       ┆ 1                      │\n",
       "│                ┆               ┆                         ┆                         ┆ Tusculum                ┆                        ┆                         ┆                        │\n",
       "└────────────────┴───────────────┴─────────────────────────┴─────────────────────────┴─────────────────────────┴────────────────────────┴─────────────────────────┴────────────────────────┘"
      ]
     },
     "execution_count": 13,
     "metadata": {},
     "output_type": "execute_result"
    }
   ],
   "source": [
    "df.filter(pl.col('vatikan_jmeno') == 'Benedict IX')"
   ]
  },
  {
   "cell_type": "code",
   "execution_count": 14,
   "id": "9212e840-017c-423c-8001-4cfbe1955733",
   "metadata": {},
   "outputs": [
    {
     "data": {
      "text/html": [
       "<div><style>\n",
       ".dataframe > thead > tr,\n",
       ".dataframe > tbody > tr {\n",
       "  text-align: right;\n",
       "  white-space: pre-wrap;\n",
       "}\n",
       "</style>\n",
       "<small>shape: (53, 8)</small><table border=\"1\" class=\"dataframe\"><thead><tr><th>vatikan_poradi</th><th>vatikan_jmeno</th><th>vatikan_pontifikat_zacatek</th><th>vatikan_pontifikat_konec</th><th>vatikan_obcanske_jmeno</th><th>vatikan_narozeni_misto</th><th>vatikan_pontifikat_zacatek_presnost</th><th>vatikan_pontifikat_konec_presnost</th></tr><tr><td>i64</td><td>str</td><td>date</td><td>date</td><td>str</td><td>str</td><td>i64</td><td>i64</td></tr></thead><tbody><tr><td>1</td><td>&quot;Peter&quot;</td><td>null</td><td>0067-01-01</td><td>&quot;&quot;</td><td>&quot;Bethsaida of Galilee&quot;</td><td>1</td><td>0</td></tr><tr><td>20</td><td>&quot;Fabian&quot;</td><td>null</td><td>null</td><td>&quot;&quot;</td><td>&quot;Rome&quot;</td><td>1</td><td>2</td></tr><tr><td>22</td><td>&quot;Lucius I&quot;</td><td>null</td><td>0254-02-05</td><td>&quot;&quot;</td><td>&quot;Rome&quot;</td><td>1</td><td>2</td></tr><tr><td>26</td><td>&quot;Felix I&quot;</td><td>null</td><td>0274-11-30</td><td>&quot;&quot;</td><td>&quot;Rome&quot;</td><td>2</td><td>2</td></tr><tr><td>27</td><td>&quot;Eutichianus&quot;</td><td>null</td><td>0283-11-07</td><td>&quot;&quot;</td><td>&quot;Luni&quot;</td><td>2</td><td>2</td></tr><tr><td>&hellip;</td><td>&hellip;</td><td>&hellip;</td><td>&hellip;</td><td>&hellip;</td><td>&hellip;</td><td>&hellip;</td><td>&hellip;</td></tr><tr><td>201</td><td>&quot;Gregory XI&quot;</td><td>null</td><td>1378-02-26</td><td>&quot;Pierre Roger de Beaufort&quot;</td><td>&quot;Rosiers d&#x27;Egletons (Limousin)&quot;</td><td>2</td><td>2</td></tr><tr><td>224</td><td>&quot;Pius IV&quot;</td><td>null</td><td>1565-11-09</td><td>&quot;Giovan Angelo Medici&quot;</td><td>&quot;Milan&quot;</td><td>2</td><td>2</td></tr><tr><td>225</td><td>&quot;Pius V&quot;</td><td>null</td><td>1572-04-01</td><td>&quot;Antonio (Michele) Ghisleri&quot;</td><td>&quot;Bosco (Alessandria)&quot;</td><td>2</td><td>2</td></tr><tr><td>243</td><td>&quot;Clement XI&quot;</td><td>null</td><td>1721-02-19</td><td>&quot;Giovanni Francesco Albani&quot;</td><td>&quot;Urbino&quot;</td><td>2</td><td>2</td></tr><tr><td>249</td><td>&quot;Clement XIV&quot;</td><td>null</td><td>1774-08-22</td><td>&quot;Giovanni Vincenzo Antonio (Lor…</td><td>&quot;Sant&#x27;Arcangelo di Romagna&quot;</td><td>2</td><td>2</td></tr></tbody></table></div>"
      ],
      "text/plain": [
       "shape: (53, 8)\n",
       "┌────────────────┬───────────────┬─────────────────────────┬─────────────────────────┬─────────────────────────┬─────────────────────────┬────────────────────────┬────────────────────────┐\n",
       "│ vatikan_poradi ┆ vatikan_jmeno ┆ vatikan_pontifikat_zaca ┆ vatikan_pontifikat_kone ┆ vatikan_obcanske_jmeno  ┆ vatikan_narozeni_misto  ┆ vatikan_pontifikat_zac ┆ vatikan_pontifikat_kon │\n",
       "│ ---            ┆ ---           ┆ tek                     ┆ c                       ┆ ---                     ┆ ---                     ┆ atek_pre…              ┆ ec_presn…              │\n",
       "│ i64            ┆ str           ┆ ---                     ┆ ---                     ┆ str                     ┆ str                     ┆ ---                    ┆ ---                    │\n",
       "│                ┆               ┆ date                    ┆ date                    ┆                         ┆                         ┆ i64                    ┆ i64                    │\n",
       "╞════════════════╪═══════════════╪═════════════════════════╪═════════════════════════╪═════════════════════════╪═════════════════════════╪════════════════════════╪════════════════════════╡\n",
       "│ 1              ┆ Peter         ┆ null                    ┆ 0067-01-01              ┆                         ┆ Bethsaida of Galilee    ┆ 1                      ┆ 0                      │\n",
       "│ 20             ┆ Fabian        ┆ null                    ┆ null                    ┆                         ┆ Rome                    ┆ 1                      ┆ 2                      │\n",
       "│ 22             ┆ Lucius I      ┆ null                    ┆ 0254-02-05              ┆                         ┆ Rome                    ┆ 1                      ┆ 2                      │\n",
       "│ 26             ┆ Felix I       ┆ null                    ┆ 0274-11-30              ┆                         ┆ Rome                    ┆ 2                      ┆ 2                      │\n",
       "│ 27             ┆ Eutichianus   ┆ null                    ┆ 0283-11-07              ┆                         ┆ Luni                    ┆ 2                      ┆ 2                      │\n",
       "│ …              ┆ …             ┆ …                       ┆ …                       ┆ …                       ┆ …                       ┆ …                      ┆ …                      │\n",
       "│ 201            ┆ Gregory XI    ┆ null                    ┆ 1378-02-26              ┆ Pierre Roger de         ┆ Rosiers d'Egletons      ┆ 2                      ┆ 2                      │\n",
       "│                ┆               ┆                         ┆                         ┆ Beaufort                ┆ (Limousin)              ┆                        ┆                        │\n",
       "│ 224            ┆ Pius IV       ┆ null                    ┆ 1565-11-09              ┆ Giovan Angelo Medici    ┆ Milan                   ┆ 2                      ┆ 2                      │\n",
       "│ 225            ┆ Pius V        ┆ null                    ┆ 1572-04-01              ┆ Antonio (Michele)       ┆ Bosco (Alessandria)     ┆ 2                      ┆ 2                      │\n",
       "│                ┆               ┆                         ┆                         ┆ Ghisleri                ┆                         ┆                        ┆                        │\n",
       "│ 243            ┆ Clement XI    ┆ null                    ┆ 1721-02-19              ┆ Giovanni Francesco      ┆ Urbino                  ┆ 2                      ┆ 2                      │\n",
       "│                ┆               ┆                         ┆                         ┆ Albani                  ┆                         ┆                        ┆                        │\n",
       "│ 249            ┆ Clement XIV   ┆ null                    ┆ 1774-08-22              ┆ Giovanni Vincenzo       ┆ Sant'Arcangelo di       ┆ 2                      ┆ 2                      │\n",
       "│                ┆               ┆                         ┆                         ┆ Antonio (Lor…           ┆ Romagna                 ┆                        ┆                        │\n",
       "└────────────────┴───────────────┴─────────────────────────┴─────────────────────────┴─────────────────────────┴─────────────────────────┴────────────────────────┴────────────────────────┘"
      ]
     },
     "execution_count": 14,
     "metadata": {},
     "output_type": "execute_result"
    }
   ],
   "source": [
    "df.filter(pl.col('vatikan_pontifikat_zacatek').is_null())"
   ]
  },
  {
   "cell_type": "code",
   "execution_count": 15,
   "id": "be8591bd-0954-4650-8ca2-efa54eedd7d9",
   "metadata": {},
   "outputs": [],
   "source": [
    "df.write_json(\"data_raw/papezstvo_raw_vatikan2.json\")"
   ]
  }
 ],
 "metadata": {
  "kernelspec": {
   "display_name": "Python 3 (ipykernel)",
   "language": "python",
   "name": "python3"
  },
  "language_info": {
   "codemirror_mode": {
    "name": "ipython",
    "version": 3
   },
   "file_extension": ".py",
   "mimetype": "text/x-python",
   "name": "python",
   "nbconvert_exporter": "python",
   "pygments_lexer": "ipython3",
   "version": "3.12.3"
  }
 },
 "nbformat": 4,
 "nbformat_minor": 5
}
