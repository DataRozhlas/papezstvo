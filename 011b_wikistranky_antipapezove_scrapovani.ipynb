{
 "cells": [
  {
   "cell_type": "code",
   "execution_count": 11,
   "id": "953c168f-d1de-439a-8446-c8b86aaa1525",
   "metadata": {},
   "outputs": [],
   "source": [
    "import os\n",
    "import json\n",
    "import polars as pl\n",
    "from bs4 import BeautifulSoup"
   ]
  },
  {
   "cell_type": "code",
   "execution_count": 3,
   "id": "a4698369-5894-4b48-9d19-20d837bcdcf7",
   "metadata": {},
   "outputs": [],
   "source": [
    "odkud = \"downloads/antipapezove_wikipedia_en\""
   ]
  },
  {
   "cell_type": "code",
   "execution_count": 5,
   "id": "758d3ab0-435e-4b4b-aef1-2a524beec72a",
   "metadata": {},
   "outputs": [
    {
     "name": "stdout",
     "output_type": "stream",
     "text": [
      "Q125984.html\n",
      "Q222890.html\n",
      "Q24053661.html\n",
      "Q241387.html\n",
      "Q2447717.html\n",
      "Q2477056.html\n",
      "Q2608414.html\n",
      "Q262884.html\n",
      "Q2629341.html\n",
      "Q294599.html\n",
      "Q295509.html\n",
      "Q298769.html\n",
      "Q299410.html\n",
      "Q310371.html\n",
      "Q311922.html\n",
      "Q312636.html\n",
      "Q312861.html\n",
      "Q312869.html\n",
      "Q312931.html\n",
      "Q313495.html\n",
      "Q313964.html\n",
      "Q314017.html\n",
      "Q314025.html\n",
      "Q316548.html\n",
      "Q319415.html\n",
      "Q320371.html\n",
      "Q320630.html\n",
      "Q336684.html\n",
      "Q346582.html\n",
      "Q348587.html\n",
      "Q348611.html\n",
      "Q348629.html\n",
      "Q350462.html\n",
      "Q355773.html\n",
      "Q356619.html\n",
      "Q356628.html\n",
      "Q356636.html\n",
      "Q365848.html\n",
      "Q368150.html\n",
      "Q4314104.html\n",
      "Q435314.html\n",
      "Q435340.html\n",
      "Q455786.html\n",
      "Q470431.html\n",
      "Q521835.html\n",
      "Q9266158.html\n"
     ]
    }
   ],
   "source": [
    "wikipapezstvo = []\n",
    "for papez in os.listdir(odkud):\n",
    "    with open(os.path.join(odkud,papez), 'r', encoding='utf-8') as soubor:\n",
    "        print(papez)\n",
    "        clanek = BeautifulSoup(soubor.read()).find(id='mw-content-text').text\n",
    "        wikipapezstvo.append(\n",
    "            {\n",
    "                'id': papez.split('.')[0],\n",
    "                'delka_stranky': len(clanek),\n",
    "                'podhesla': clanek.count('Main article: ') + clanek.count('See also: ')\n",
    "        }\n",
    "        )"
   ]
  },
  {
   "cell_type": "code",
   "execution_count": 7,
   "id": "46b24dee-2956-4055-b442-67de617c0ad8",
   "metadata": {},
   "outputs": [
    {
     "data": {
      "text/plain": [
       "[{'id': 'Q125984', 'delka_stranky': 16851, 'podhesla': 0},\n",
       " {'id': 'Q222890', 'delka_stranky': 26292, 'podhesla': 0},\n",
       " {'id': 'Q24053661', 'delka_stranky': 9501, 'podhesla': 0},\n",
       " {'id': 'Q241387', 'delka_stranky': 19275, 'podhesla': 0},\n",
       " {'id': 'Q2447717', 'delka_stranky': 12603, 'podhesla': 0},\n",
       " {'id': 'Q2477056', 'delka_stranky': 13942, 'podhesla': 0},\n",
       " {'id': 'Q2608414', 'delka_stranky': 5682, 'podhesla': 0},\n",
       " {'id': 'Q262884', 'delka_stranky': 20995, 'podhesla': 0},\n",
       " {'id': 'Q2629341', 'delka_stranky': 11525, 'podhesla': 1},\n",
       " {'id': 'Q294599', 'delka_stranky': 22011, 'podhesla': 1},\n",
       " {'id': 'Q295509', 'delka_stranky': 14499, 'podhesla': 0},\n",
       " {'id': 'Q298769', 'delka_stranky': 13333, 'podhesla': 0},\n",
       " {'id': 'Q299410', 'delka_stranky': 13890, 'podhesla': 0},\n",
       " {'id': 'Q310371', 'delka_stranky': 24850, 'podhesla': 0},\n",
       " {'id': 'Q311922', 'delka_stranky': 13898, 'podhesla': 0},\n",
       " {'id': 'Q312636', 'delka_stranky': 25605, 'podhesla': 0},\n",
       " {'id': 'Q312861', 'delka_stranky': 11679, 'podhesla': 0},\n",
       " {'id': 'Q312869', 'delka_stranky': 14573, 'podhesla': 0},\n",
       " {'id': 'Q312931', 'delka_stranky': 16689, 'podhesla': 0},\n",
       " {'id': 'Q313495', 'delka_stranky': 20641, 'podhesla': 0},\n",
       " {'id': 'Q313964', 'delka_stranky': 13081, 'podhesla': 0},\n",
       " {'id': 'Q314017', 'delka_stranky': 11482, 'podhesla': 0},\n",
       " {'id': 'Q314025', 'delka_stranky': 16590, 'podhesla': 0},\n",
       " {'id': 'Q316548', 'delka_stranky': 11034, 'podhesla': 0},\n",
       " {'id': 'Q319415', 'delka_stranky': 10881, 'podhesla': 0},\n",
       " {'id': 'Q320371', 'delka_stranky': 19720, 'podhesla': 0},\n",
       " {'id': 'Q320630', 'delka_stranky': 11260, 'podhesla': 0},\n",
       " {'id': 'Q336684', 'delka_stranky': 24496, 'podhesla': 0},\n",
       " {'id': 'Q346582', 'delka_stranky': 14033, 'podhesla': 0},\n",
       " {'id': 'Q348587', 'delka_stranky': 14405, 'podhesla': 0},\n",
       " {'id': 'Q348611', 'delka_stranky': 12319, 'podhesla': 0},\n",
       " {'id': 'Q348629', 'delka_stranky': 12912, 'podhesla': 0},\n",
       " {'id': 'Q350462', 'delka_stranky': 11383, 'podhesla': 0},\n",
       " {'id': 'Q355773', 'delka_stranky': 28139, 'podhesla': 0},\n",
       " {'id': 'Q356619', 'delka_stranky': 15027, 'podhesla': 1},\n",
       " {'id': 'Q356628', 'delka_stranky': 17308, 'podhesla': 0},\n",
       " {'id': 'Q356636', 'delka_stranky': 13828, 'podhesla': 0},\n",
       " {'id': 'Q365848', 'delka_stranky': 13355, 'podhesla': 0},\n",
       " {'id': 'Q368150', 'delka_stranky': 14115, 'podhesla': 0},\n",
       " {'id': 'Q4314104', 'delka_stranky': 12250, 'podhesla': 0},\n",
       " {'id': 'Q435314', 'delka_stranky': 5965, 'podhesla': 0},\n",
       " {'id': 'Q435340', 'delka_stranky': 21296, 'podhesla': 0},\n",
       " {'id': 'Q455786', 'delka_stranky': 12603, 'podhesla': 0},\n",
       " {'id': 'Q470431', 'delka_stranky': 17574, 'podhesla': 1},\n",
       " {'id': 'Q521835', 'delka_stranky': 10975, 'podhesla': 0},\n",
       " {'id': 'Q9266158', 'delka_stranky': 5000, 'podhesla': 0}]"
      ]
     },
     "execution_count": 7,
     "metadata": {},
     "output_type": "execute_result"
    }
   ],
   "source": [
    "wikipapezstvo"
   ]
  },
  {
   "cell_type": "code",
   "execution_count": 13,
   "id": "4ca86cbb-d963-4932-969f-7b82f3eb0da4",
   "metadata": {},
   "outputs": [
    {
     "data": {
      "text/html": [
       "<div><style>\n",
       ".dataframe > thead > tr,\n",
       ".dataframe > tbody > tr {\n",
       "  text-align: right;\n",
       "  white-space: pre-wrap;\n",
       "}\n",
       "</style>\n",
       "<small>shape: (46, 3)</small><table border=\"1\" class=\"dataframe\"><thead><tr><th>id</th><th>delka_stranky</th><th>podhesla</th></tr><tr><td>str</td><td>i64</td><td>i64</td></tr></thead><tbody><tr><td>&quot;Q125984&quot;</td><td>16851</td><td>0</td></tr><tr><td>&quot;Q222890&quot;</td><td>26292</td><td>0</td></tr><tr><td>&quot;Q24053661&quot;</td><td>9501</td><td>0</td></tr><tr><td>&quot;Q241387&quot;</td><td>19275</td><td>0</td></tr><tr><td>&quot;Q2447717&quot;</td><td>12603</td><td>0</td></tr><tr><td>&hellip;</td><td>&hellip;</td><td>&hellip;</td></tr><tr><td>&quot;Q435340&quot;</td><td>21296</td><td>0</td></tr><tr><td>&quot;Q455786&quot;</td><td>12603</td><td>0</td></tr><tr><td>&quot;Q470431&quot;</td><td>17574</td><td>1</td></tr><tr><td>&quot;Q521835&quot;</td><td>10975</td><td>0</td></tr><tr><td>&quot;Q9266158&quot;</td><td>5000</td><td>0</td></tr></tbody></table></div>"
      ],
      "text/plain": [
       "shape: (46, 3)\n",
       "┌───────────┬───────────────┬──────────┐\n",
       "│ id        ┆ delka_stranky ┆ podhesla │\n",
       "│ ---       ┆ ---           ┆ ---      │\n",
       "│ str       ┆ i64           ┆ i64      │\n",
       "╞═══════════╪═══════════════╪══════════╡\n",
       "│ Q125984   ┆ 16851         ┆ 0        │\n",
       "│ Q222890   ┆ 26292         ┆ 0        │\n",
       "│ Q24053661 ┆ 9501          ┆ 0        │\n",
       "│ Q241387   ┆ 19275         ┆ 0        │\n",
       "│ Q2447717  ┆ 12603         ┆ 0        │\n",
       "│ …         ┆ …             ┆ …        │\n",
       "│ Q435340   ┆ 21296         ┆ 0        │\n",
       "│ Q455786   ┆ 12603         ┆ 0        │\n",
       "│ Q470431   ┆ 17574         ┆ 1        │\n",
       "│ Q521835   ┆ 10975         ┆ 0        │\n",
       "│ Q9266158  ┆ 5000          ┆ 0        │\n",
       "└───────────┴───────────────┴──────────┘"
      ]
     },
     "execution_count": 13,
     "metadata": {},
     "output_type": "execute_result"
    }
   ],
   "source": [
    "pl.DataFrame(wikipapezstvo)"
   ]
  },
  {
   "cell_type": "code",
   "execution_count": 15,
   "id": "e880bbf9-0375-44b7-98f7-8c85cff963ab",
   "metadata": {},
   "outputs": [],
   "source": [
    "pl.DataFrame(wikipapezstvo).write_json(os.path.join('data','antipapezstvo_rozsah_wikistranek.json'))"
   ]
  }
 ],
 "metadata": {
  "kernelspec": {
   "display_name": "Python 3 (ipykernel)",
   "language": "python",
   "name": "python3"
  },
  "language_info": {
   "codemirror_mode": {
    "name": "ipython",
    "version": 3
   },
   "file_extension": ".py",
   "mimetype": "text/x-python",
   "name": "python",
   "nbconvert_exporter": "python",
   "pygments_lexer": "ipython3",
   "version": "3.12.3"
  }
 },
 "nbformat": 4,
 "nbformat_minor": 5
}
