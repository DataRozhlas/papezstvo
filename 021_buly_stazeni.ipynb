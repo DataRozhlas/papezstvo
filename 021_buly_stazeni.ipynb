{
 "cells": [
  {
   "cell_type": "code",
   "execution_count": 1,
   "id": "b0927f27-c535-4e6f-92bf-b57d7d470ade",
   "metadata": {},
   "outputs": [],
   "source": [
    "import os\n",
    "import requests\n",
    "from bs4 import BeautifulSoup"
   ]
  },
  {
   "cell_type": "code",
   "execution_count": 3,
   "id": "12e42052-79f7-4633-9917-5729c0167e51",
   "metadata": {},
   "outputs": [],
   "source": [
    "seznam_url = \"https://gcatholic.org/documents/data/type-PBH\""
   ]
  },
  {
   "cell_type": "code",
   "execution_count": 5,
   "id": "f8d2e64b-0a91-4a1a-9c08-26a2d7bdad5e",
   "metadata": {},
   "outputs": [],
   "source": [
    "seznam_stranka = requests.get(seznam_url)"
   ]
  },
  {
   "cell_type": "code",
   "execution_count": 7,
   "id": "d3d84e6a-4b24-4419-93ee-7c1f175cf88e",
   "metadata": {},
   "outputs": [],
   "source": [
    "seznam_polivka = BeautifulSoup(seznam_stranka.text)"
   ]
  },
  {
   "cell_type": "code",
   "execution_count": 9,
   "id": "a0581ea8-634f-47da-8bf2-0934d3a9172d",
   "metadata": {},
   "outputs": [],
   "source": [
    "dokumenty = []\n",
    "for radek in seznam_polivka.find_all('tr'):\n",
    "    if 'Pope' in radek.text:\n",
    "        dokument = {}\n",
    "        if radek.find(class_='doc'):\n",
    "            dokument['nazev'] = radek.find(class_='doc').text.strip()\n",
    "            dokument['dokument'] = 'bula'\n",
    "            tagy = []\n",
    "            for t in radek.find_all(class_='tag'):\n",
    "                tagy.append(t.text.strip())\n",
    "            dokument['tagy'] = tagy\n",
    "            dokument['papez'] = radek.find_all('td')[1].text.strip()\n",
    "            datum = radek.find_all('td')[2].text.strip()\n",
    "            if datum == '1831.03':\n",
    "                datum = '1831.03.01'\n",
    "            dokument['datum'] = datum\n",
    "            dokumenty.append(dokument)"
   ]
  },
  {
   "cell_type": "code",
   "execution_count": 11,
   "id": "04cee51e-f652-4ef0-8e86-7f6358427875",
   "metadata": {},
   "outputs": [],
   "source": [
    "import polars as pl"
   ]
  },
  {
   "cell_type": "code",
   "execution_count": 13,
   "id": "ce0d7088-907f-4ac3-a9f7-9945400a2110",
   "metadata": {},
   "outputs": [],
   "source": [
    "df = pl.DataFrame(dokumenty).with_columns(pl.col('datum').str.to_date())"
   ]
  },
  {
   "cell_type": "code",
   "execution_count": 15,
   "id": "bdae0f98-2186-422e-8297-158885082be6",
   "metadata": {},
   "outputs": [],
   "source": [
    "df.write_parquet(os.path.join('data','buly.parquet'), use_pyarrow=True)"
   ]
  }
 ],
 "metadata": {
  "kernelspec": {
   "display_name": "Python 3 (ipykernel)",
   "language": "python",
   "name": "python3"
  },
  "language_info": {
   "codemirror_mode": {
    "name": "ipython",
    "version": 3
   },
   "file_extension": ".py",
   "mimetype": "text/x-python",
   "name": "python",
   "nbconvert_exporter": "python",
   "pygments_lexer": "ipython3",
   "version": "3.12.3"
  }
 },
 "nbformat": 4,
 "nbformat_minor": 5
}
