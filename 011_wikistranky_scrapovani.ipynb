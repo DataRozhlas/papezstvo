{
 "cells": [
  {
   "cell_type": "code",
   "execution_count": 99,
   "id": "953c168f-d1de-439a-8446-c8b86aaa1525",
   "metadata": {},
   "outputs": [],
   "source": [
    "import os\n",
    "import json\n",
    "from bs4 import BeautifulSoup"
   ]
  },
  {
   "cell_type": "code",
   "execution_count": 100,
   "id": "a4698369-5894-4b48-9d19-20d837bcdcf7",
   "metadata": {},
   "outputs": [],
   "source": [
    "odkud = \"downloads/wikipedia_en\""
   ]
  },
  {
   "cell_type": "code",
   "execution_count": null,
   "id": "758d3ab0-435e-4b4b-aef1-2a524beec72a",
   "metadata": {},
   "outputs": [
    {
     "name": "stdout",
     "output_type": "stream",
     "text": [
      "Q101090.html\n",
      "Q101266.html\n",
      "Q101280.html\n",
      "Q101286.html\n",
      "Q101294.html\n",
      "Q101306.html\n",
      "Q101430.html\n",
      "Q101437.html\n",
      "Q101776.html\n",
      "Q101866.html\n",
      "Q102105.html\n",
      "Q102131.html\n",
      "Q102605.html\n",
      "Q103101.html\n",
      "Q103260.html\n",
      "Q103268.html\n",
      "Q103277.html\n",
      "Q103292.html\n",
      "Q103300.html\n",
      "Q103308.html\n",
      "Q103314.html\n",
      "Q103321.html\n",
      "Q103328.html\n",
      "Q103389.html\n",
      "Q103396.html\n",
      "Q103404.html\n",
      "Q103423.html\n",
      "Q103431.html\n",
      "Q103437.html\n",
      "Q103545.html\n",
      "Q103625.html\n",
      "Q103795.html\n",
      "Q104205.html\n",
      "Q104244.html\n",
      "Q104467.html\n",
      "Q104798.html\n",
      "Q108316.html\n",
      "Q117840.html\n",
      "Q118081.html\n",
      "Q122376.html\n",
      "Q124754.html\n",
      "Q124831.html\n",
      "Q125631.html\n",
      "Q126711.html\n",
      "Q127254.html\n",
      "Q127385.html\n",
      "Q127989.html\n",
      "Q128019.html\n",
      "Q128076.html\n",
      "Q129967.html\n",
      "Q130997.html\n",
      "Q131159.html\n",
      "Q131162.html\n",
      "Q131463.html\n",
      "Q131579.html\n",
      "Q131587.html\n",
      "Q131945.html\n",
      "Q132086.html\n",
      "Q132100.html\n",
      "Q132113.html\n",
      "Q132692.html\n",
      "Q132708.html\n",
      "Q132711.html\n",
      "Q132716.html\n",
      "Q132786.html\n",
      "Q132793.html\n",
      "Q132797.html\n",
      "Q132845.html\n",
      "Q133001.html\n",
      "Q133046.html\n",
      "Q133063.html\n",
      "Q133100.html\n",
      "Q133108.html\n",
      "Q133121.html\n",
      "Q133350.html\n",
      "Q134337.html\n",
      "Q134588.html\n",
      "Q134646.html\n",
      "Q134666.html\n",
      "Q134682.html\n",
      "Q134687.html\n",
      "Q134694.html\n",
      "Q139467.html\n",
      "Q149315.html\n",
      "Q151902.html\n",
      "Q151908.html\n",
      "Q155956.html\n",
      "Q155961.html\n",
      "Q155971.html\n",
      "Q160030.html\n"
     ]
    }
   ],
   "source": [
    "wikipapezstvo = []\n",
    "for papez in os.listdir(odkud):\n",
    "    with open(os.path.join(odkud,papez), 'r', encoding='utf-8') as soubor:\n",
    "        print(papez)\n",
    "        clanek = BeautifulSoup(soubor.read()).find(id='mw-content-text').text\n",
    "        wikipapezstvo.append(\n",
    "            {\n",
    "                'id': papez.split('.')[0],\n",
    "                'delka_stranky': len(clanek),\n",
    "                'podhesla': clanek.count('Main article: ') + clanek.count('See also: ')\n",
    "        }\n",
    "        )"
   ]
  },
  {
   "cell_type": "code",
   "execution_count": null,
   "id": "46b24dee-2956-4055-b442-67de617c0ad8",
   "metadata": {},
   "outputs": [],
   "source": [
    "wikipapezstvo"
   ]
  },
  {
   "cell_type": "code",
   "execution_count": null,
   "id": "4ca86cbb-d963-4932-969f-7b82f3eb0da4",
   "metadata": {},
   "outputs": [],
   "source": [
    "pl.DataFrame(wikipapezstvo)"
   ]
  },
  {
   "cell_type": "code",
   "execution_count": null,
   "id": "e880bbf9-0375-44b7-98f7-8c85cff963ab",
   "metadata": {},
   "outputs": [],
   "source": [
    "pl.DataFrame(wikipapezstvo).write_json(os.path.join('data','papezstvo_rozsah_wikistranek.json'))"
   ]
  }
 ],
 "metadata": {
  "kernelspec": {
   "display_name": "Python 3 (ipykernel)",
   "language": "python",
   "name": "python3"
  },
  "language_info": {
   "codemirror_mode": {
    "name": "ipython",
    "version": 3
   },
   "file_extension": ".py",
   "mimetype": "text/x-python",
   "name": "python",
   "nbconvert_exporter": "python",
   "pygments_lexer": "ipython3",
   "version": "3.12.3"
  }
 },
 "nbformat": 4,
 "nbformat_minor": 5
}
